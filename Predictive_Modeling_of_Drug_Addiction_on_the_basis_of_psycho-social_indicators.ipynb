{
 "cells": [
  {
   "cell_type": "markdown",
   "id": "edc9af97-db4e-4a41-9553-28611025087e",
   "metadata": {},
   "source": [
    "# Imports"
   ]
  },
  {
   "cell_type": "code",
   "execution_count": 143,
   "id": "856bd060-9790-4584-bcf2-2c5ebac8cf44",
   "metadata": {},
   "outputs": [],
   "source": [
    "import pandas as pd\n",
    "import numpy as np\n",
    "import matplotlib.pyplot as plt\n",
    "import seaborn as sns\n",
    "\n",
    "from sklearn.model_selection import train_test_split\n",
    "from sklearn.preprocessing import LabelEncoder, StandardScaler, OneHotEncoder, OrdinalEncoder\n",
    "\n",
    "from sklearn.compose import ColumnTransformer\n",
    "from sklearn.decomposition import PCA\n",
    "\n",
    "from imblearn.pipeline import Pipeline\n",
    "from imblearn.over_sampling import SMOTE\n",
    "\n",
    "from sklearn.linear_model import LogisticRegression\n",
    "from sklearn.tree import DecisionTreeClassifier\n",
    "from sklearn.ensemble import RandomForestClassifier\n",
    "from sklearn.svm import SVC\n",
    "from xgboost import XGBClassifier\n",
    "\n",
    "from sklearn.metrics import accuracy_score, precision_score, recall_score, f1_score, roc_auc_score, classification_report\n",
    "\n",
    "import warnings\n",
    "warnings.filterwarnings(\"ignore\")\n"
   ]
  },
  {
   "cell_type": "markdown",
   "id": "1e029423-6ff3-4f4c-b125-37017b0a9286",
   "metadata": {},
   "source": [
    "# Load Dataset into DataFrame"
   ]
  },
  {
   "cell_type": "code",
   "execution_count": 4,
   "id": "96efebf0-7e41-46b7-8d23-6080ce91880f",
   "metadata": {},
   "outputs": [],
   "source": [
    "# df = pd.read_csv('drug_addiction_dataset.csv')"
   ]
  },
  {
   "cell_type": "code",
   "execution_count": 5,
   "id": "2dbc9a67-c0a5-42f5-8f66-b5402c7f24f9",
   "metadata": {},
   "outputs": [],
   "source": [
    "# df = pd.read_csv(\"final_cleaned_dataset_merged_mental_health (1).csv\")"
   ]
  },
  {
   "cell_type": "code",
   "execution_count": 146,
   "id": "7d05156c-7523-4650-874b-a5cc51085ba9",
   "metadata": {},
   "outputs": [],
   "source": [
    "df = pd.read_csv(\"final_cleaned_dataset_merged_mental_health_50000.csv\")"
   ]
  },
  {
   "cell_type": "markdown",
   "id": "7ccf0ff2-ca28-47c7-a140-12c3fdd910f7",
   "metadata": {},
   "source": [
    "# Basic Information About Data"
   ]
  },
  {
   "cell_type": "raw",
   "id": "f11d120a-741c-4141-b36e-d1c27d8e640d",
   "metadata": {},
   "source": []
  },
  {
   "cell_type": "markdown",
   "id": "9f01ea44-3325-4a16-a760-b0c3cce1babe",
   "metadata": {},
   "source": [
    "### Data Shape"
   ]
  },
  {
   "cell_type": "code",
   "execution_count": 150,
   "id": "93f71ad9-e9fa-4d0d-8dd6-aff9cc9f34e1",
   "metadata": {},
   "outputs": [
    {
     "data": {
      "text/plain": [
       "(50000, 23)"
      ]
     },
     "execution_count": 150,
     "metadata": {},
     "output_type": "execute_result"
    }
   ],
   "source": [
    "df.shape"
   ]
  },
  {
   "cell_type": "markdown",
   "id": "e8deab92-b786-4301-be12-ca3d178da0dd",
   "metadata": {},
   "source": [
    "### Data Info"
   ]
  },
  {
   "cell_type": "code",
   "execution_count": 153,
   "id": "e3941a59-84ac-402a-974c-9386a164aa93",
   "metadata": {},
   "outputs": [
    {
     "name": "stdout",
     "output_type": "stream",
     "text": [
      "<class 'pandas.core.frame.DataFrame'>\n",
      "RangeIndex: 50000 entries, 0 to 49999\n",
      "Data columns (total 23 columns):\n",
      " #   Column                Non-Null Count  Dtype \n",
      "---  ------                --------------  ----- \n",
      " 0   ID                    50000 non-null  int64 \n",
      " 1   Age                   50000 non-null  int64 \n",
      " 2   Gender                50000 non-null  object\n",
      " 3   Education_Level       50000 non-null  object\n",
      " 4   Occupation            50000 non-null  object\n",
      " 5   Income_Level          50000 non-null  object\n",
      " 6   Medical_Condition     50000 non-null  object\n",
      " 7   Social_Behavior       50000 non-null  object\n",
      " 8   Peer_Influence        50000 non-null  object\n",
      " 9   Living_Situation      30729 non-null  object\n",
      " 10  Legal_Issues          30701 non-null  object\n",
      " 11  Drug_Motive           30625 non-null  object\n",
      " 12  Social_Time_Spent     30634 non-null  object\n",
      " 13  Life_Failure          30977 non-null  object\n",
      " 14  Mental_Health_Issues  50000 non-null  object\n",
      " 15  Lives_With_User       31030 non-null  object\n",
      " 16  Smoking_Status        30877 non-null  object\n",
      " 17  Drug_Experience       30719 non-null  object\n",
      " 18  Friend_Influence      30724 non-null  object\n",
      " 19  Willingness_To_Try    30789 non-null  object\n",
      " 20  Self_Control          30749 non-null  object\n",
      " 21  Usage_Frequency       30627 non-null  object\n",
      " 22  Label                 50000 non-null  object\n",
      "dtypes: int64(2), object(21)\n",
      "memory usage: 8.8+ MB\n"
     ]
    }
   ],
   "source": [
    "df.info()"
   ]
  },
  {
   "cell_type": "markdown",
   "id": "f8e9d3d2-b21e-456a-a5fa-caa0974d4ec5",
   "metadata": {},
   "source": [
    "### Statistical Summary"
   ]
  },
  {
   "cell_type": "code",
   "execution_count": 156,
   "id": "1e534158-2733-4fa8-940e-efbe7fdd7ac3",
   "metadata": {},
   "outputs": [
    {
     "data": {
      "text/html": [
       "<div>\n",
       "<style scoped>\n",
       "    .dataframe tbody tr th:only-of-type {\n",
       "        vertical-align: middle;\n",
       "    }\n",
       "\n",
       "    .dataframe tbody tr th {\n",
       "        vertical-align: top;\n",
       "    }\n",
       "\n",
       "    .dataframe thead th {\n",
       "        text-align: right;\n",
       "    }\n",
       "</style>\n",
       "<table border=\"1\" class=\"dataframe\">\n",
       "  <thead>\n",
       "    <tr style=\"text-align: right;\">\n",
       "      <th></th>\n",
       "      <th>ID</th>\n",
       "      <th>Age</th>\n",
       "    </tr>\n",
       "  </thead>\n",
       "  <tbody>\n",
       "    <tr>\n",
       "      <th>count</th>\n",
       "      <td>50000.000000</td>\n",
       "      <td>50000.000000</td>\n",
       "    </tr>\n",
       "    <tr>\n",
       "      <th>mean</th>\n",
       "      <td>550121.458280</td>\n",
       "      <td>32.624720</td>\n",
       "    </tr>\n",
       "    <tr>\n",
       "      <th>std</th>\n",
       "      <td>259406.526078</td>\n",
       "      <td>13.362063</td>\n",
       "    </tr>\n",
       "    <tr>\n",
       "      <th>min</th>\n",
       "      <td>100004.000000</td>\n",
       "      <td>12.000000</td>\n",
       "    </tr>\n",
       "    <tr>\n",
       "      <th>25%</th>\n",
       "      <td>326485.000000</td>\n",
       "      <td>21.000000</td>\n",
       "    </tr>\n",
       "    <tr>\n",
       "      <th>50%</th>\n",
       "      <td>550638.000000</td>\n",
       "      <td>29.000000</td>\n",
       "    </tr>\n",
       "    <tr>\n",
       "      <th>75%</th>\n",
       "      <td>774383.500000</td>\n",
       "      <td>44.000000</td>\n",
       "    </tr>\n",
       "    <tr>\n",
       "      <th>max</th>\n",
       "      <td>999997.000000</td>\n",
       "      <td>66.000000</td>\n",
       "    </tr>\n",
       "  </tbody>\n",
       "</table>\n",
       "</div>"
      ],
      "text/plain": [
       "                  ID           Age\n",
       "count   50000.000000  50000.000000\n",
       "mean   550121.458280     32.624720\n",
       "std    259406.526078     13.362063\n",
       "min    100004.000000     12.000000\n",
       "25%    326485.000000     21.000000\n",
       "50%    550638.000000     29.000000\n",
       "75%    774383.500000     44.000000\n",
       "max    999997.000000     66.000000"
      ]
     },
     "execution_count": 156,
     "metadata": {},
     "output_type": "execute_result"
    }
   ],
   "source": [
    "df.select_dtypes(include=['int64', 'float64']).describe()"
   ]
  },
  {
   "cell_type": "markdown",
   "id": "a1a7c58a-5e52-4a2b-b6f8-a7411ec54fb1",
   "metadata": {},
   "source": [
    "### Top 5 Values"
   ]
  },
  {
   "cell_type": "code",
   "execution_count": 159,
   "id": "7f977b6a-0451-4303-80d1-4fdc51823134",
   "metadata": {},
   "outputs": [
    {
     "data": {
      "text/html": [
       "<div>\n",
       "<style scoped>\n",
       "    .dataframe tbody tr th:only-of-type {\n",
       "        vertical-align: middle;\n",
       "    }\n",
       "\n",
       "    .dataframe tbody tr th {\n",
       "        vertical-align: top;\n",
       "    }\n",
       "\n",
       "    .dataframe thead th {\n",
       "        text-align: right;\n",
       "    }\n",
       "</style>\n",
       "<table border=\"1\" class=\"dataframe\">\n",
       "  <thead>\n",
       "    <tr style=\"text-align: right;\">\n",
       "      <th></th>\n",
       "      <th>ID</th>\n",
       "      <th>Age</th>\n",
       "      <th>Gender</th>\n",
       "      <th>Education_Level</th>\n",
       "      <th>Occupation</th>\n",
       "      <th>Income_Level</th>\n",
       "      <th>Medical_Condition</th>\n",
       "      <th>Social_Behavior</th>\n",
       "      <th>Peer_Influence</th>\n",
       "      <th>Living_Situation</th>\n",
       "      <th>...</th>\n",
       "      <th>Life_Failure</th>\n",
       "      <th>Mental_Health_Issues</th>\n",
       "      <th>Lives_With_User</th>\n",
       "      <th>Smoking_Status</th>\n",
       "      <th>Drug_Experience</th>\n",
       "      <th>Friend_Influence</th>\n",
       "      <th>Willingness_To_Try</th>\n",
       "      <th>Self_Control</th>\n",
       "      <th>Usage_Frequency</th>\n",
       "      <th>Label</th>\n",
       "    </tr>\n",
       "  </thead>\n",
       "  <tbody>\n",
       "    <tr>\n",
       "      <th>0</th>\n",
       "      <td>536321</td>\n",
       "      <td>19</td>\n",
       "      <td>Male</td>\n",
       "      <td>Master's</td>\n",
       "      <td>Unemployed</td>\n",
       "      <td>Low</td>\n",
       "      <td>Depression</td>\n",
       "      <td>Multiple Arrests</td>\n",
       "      <td>Many Friends Use</td>\n",
       "      <td>Hostel/Hall</td>\n",
       "      <td>...</td>\n",
       "      <td>Yes</td>\n",
       "      <td>None / I don't know</td>\n",
       "      <td>No</td>\n",
       "      <td>Yes, every day.</td>\n",
       "      <td>Yes</td>\n",
       "      <td>No, they don't</td>\n",
       "      <td>maybe</td>\n",
       "      <td>No, It's not possible</td>\n",
       "      <td>Once/twice a week</td>\n",
       "      <td>Non-Addict</td>\n",
       "    </tr>\n",
       "    <tr>\n",
       "      <th>1</th>\n",
       "      <td>384818</td>\n",
       "      <td>44</td>\n",
       "      <td>Female</td>\n",
       "      <td>High School</td>\n",
       "      <td>Clerk</td>\n",
       "      <td>Medium</td>\n",
       "      <td>Heart Disease</td>\n",
       "      <td>Minor Offense</td>\n",
       "      <td>Many Friends Use</td>\n",
       "      <td>With Family/Relatives</td>\n",
       "      <td>...</td>\n",
       "      <td>No</td>\n",
       "      <td>Depression/Guilt</td>\n",
       "      <td>No</td>\n",
       "      <td>Yes, every day.</td>\n",
       "      <td>Yes</td>\n",
       "      <td>Yes, often they do</td>\n",
       "      <td>NaN</td>\n",
       "      <td>No, It's not possible</td>\n",
       "      <td>Once/twice a week</td>\n",
       "      <td>Non-Addict</td>\n",
       "    </tr>\n",
       "    <tr>\n",
       "      <th>2</th>\n",
       "      <td>707763</td>\n",
       "      <td>47</td>\n",
       "      <td>Female</td>\n",
       "      <td>High School</td>\n",
       "      <td>Unemployed</td>\n",
       "      <td>Medium</td>\n",
       "      <td>Diabetes</td>\n",
       "      <td>Therapy Ongoing</td>\n",
       "      <td>Some Friends Use</td>\n",
       "      <td>With Family/Relatives</td>\n",
       "      <td>...</td>\n",
       "      <td>Yes</td>\n",
       "      <td>Depression/Guilt</td>\n",
       "      <td>Yes</td>\n",
       "      <td>Yes, occasionally</td>\n",
       "      <td>Yes</td>\n",
       "      <td>No, they don't</td>\n",
       "      <td>yes</td>\n",
       "      <td>No, It's not possible</td>\n",
       "      <td>Never/ Not applicable</td>\n",
       "      <td>Drug Addict</td>\n",
       "    </tr>\n",
       "    <tr>\n",
       "      <th>3</th>\n",
       "      <td>294635</td>\n",
       "      <td>29</td>\n",
       "      <td>Female</td>\n",
       "      <td>No Formal Education</td>\n",
       "      <td>Student</td>\n",
       "      <td>Medium</td>\n",
       "      <td>Diabetes</td>\n",
       "      <td>Minor Offense</td>\n",
       "      <td>No Influence</td>\n",
       "      <td>With Family/Relatives</td>\n",
       "      <td>...</td>\n",
       "      <td>No</td>\n",
       "      <td>Anxiety/Stress</td>\n",
       "      <td>No</td>\n",
       "      <td>Yes, occasionally</td>\n",
       "      <td>Yes</td>\n",
       "      <td>No, they don't</td>\n",
       "      <td>yes</td>\n",
       "      <td>Yes, It's possible</td>\n",
       "      <td>Regularly</td>\n",
       "      <td>Non-Addict</td>\n",
       "    </tr>\n",
       "    <tr>\n",
       "      <th>4</th>\n",
       "      <td>223564</td>\n",
       "      <td>18</td>\n",
       "      <td>Female</td>\n",
       "      <td>Bachelor's</td>\n",
       "      <td>Engineer</td>\n",
       "      <td>Medium</td>\n",
       "      <td>Healthy</td>\n",
       "      <td>No Criminal Record</td>\n",
       "      <td>Some Friends Use</td>\n",
       "      <td>With Family/Relatives</td>\n",
       "      <td>...</td>\n",
       "      <td>Yes</td>\n",
       "      <td>Depression/Guilt</td>\n",
       "      <td>No</td>\n",
       "      <td>No, I don't</td>\n",
       "      <td>Yes</td>\n",
       "      <td>NaN</td>\n",
       "      <td>no</td>\n",
       "      <td>Yes, It's possible</td>\n",
       "      <td>NaN</td>\n",
       "      <td>Non-Addict</td>\n",
       "    </tr>\n",
       "  </tbody>\n",
       "</table>\n",
       "<p>5 rows × 23 columns</p>\n",
       "</div>"
      ],
      "text/plain": [
       "       ID  Age  Gender      Education_Level  Occupation Income_Level  \\\n",
       "0  536321   19    Male             Master's  Unemployed          Low   \n",
       "1  384818   44  Female          High School       Clerk       Medium   \n",
       "2  707763   47  Female          High School  Unemployed       Medium   \n",
       "3  294635   29  Female  No Formal Education     Student       Medium   \n",
       "4  223564   18  Female           Bachelor's    Engineer       Medium   \n",
       "\n",
       "  Medical_Condition     Social_Behavior    Peer_Influence  \\\n",
       "0        Depression    Multiple Arrests  Many Friends Use   \n",
       "1     Heart Disease       Minor Offense  Many Friends Use   \n",
       "2          Diabetes     Therapy Ongoing  Some Friends Use   \n",
       "3          Diabetes       Minor Offense      No Influence   \n",
       "4           Healthy  No Criminal Record  Some Friends Use   \n",
       "\n",
       "        Living_Situation  ... Life_Failure Mental_Health_Issues  \\\n",
       "0            Hostel/Hall  ...          Yes  None / I don't know   \n",
       "1  With Family/Relatives  ...           No     Depression/Guilt   \n",
       "2  With Family/Relatives  ...          Yes     Depression/Guilt   \n",
       "3  With Family/Relatives  ...           No       Anxiety/Stress   \n",
       "4  With Family/Relatives  ...          Yes     Depression/Guilt   \n",
       "\n",
       "  Lives_With_User     Smoking_Status Drug_Experience    Friend_Influence  \\\n",
       "0              No    Yes, every day.             Yes      No, they don't   \n",
       "1              No    Yes, every day.             Yes  Yes, often they do   \n",
       "2             Yes  Yes, occasionally             Yes      No, they don't   \n",
       "3              No  Yes, occasionally             Yes      No, they don't   \n",
       "4              No        No, I don't             Yes                 NaN   \n",
       "\n",
       "  Willingness_To_Try           Self_Control        Usage_Frequency  \\\n",
       "0              maybe  No, It's not possible      Once/twice a week   \n",
       "1                NaN  No, It's not possible      Once/twice a week   \n",
       "2                yes  No, It's not possible  Never/ Not applicable   \n",
       "3                yes     Yes, It's possible              Regularly   \n",
       "4                 no     Yes, It's possible                    NaN   \n",
       "\n",
       "         Label  \n",
       "0   Non-Addict  \n",
       "1   Non-Addict  \n",
       "2  Drug Addict  \n",
       "3   Non-Addict  \n",
       "4   Non-Addict  \n",
       "\n",
       "[5 rows x 23 columns]"
      ]
     },
     "execution_count": 159,
     "metadata": {},
     "output_type": "execute_result"
    }
   ],
   "source": [
    "df.head(5)"
   ]
  },
  {
   "cell_type": "raw",
   "id": "c6d8b290-794f-4f6f-b491-d6a917faacd5",
   "metadata": {},
   "source": []
  },
  {
   "cell_type": "markdown",
   "id": "46286783-b3cd-4e2f-bf0e-19c850554a22",
   "metadata": {},
   "source": [
    "# Pre Processing"
   ]
  },
  {
   "cell_type": "raw",
   "id": "aef3483d-ba28-4ea4-b3e9-7f87ef72f2e4",
   "metadata": {},
   "source": []
  },
  {
   "cell_type": "markdown",
   "id": "cdf985f8-d590-4cd8-99ae-b8f2253dc673",
   "metadata": {},
   "source": [
    "## Dropping ID"
   ]
  },
  {
   "cell_type": "code",
   "execution_count": 163,
   "id": "4d01e1de-6435-4f96-b59e-503b42065519",
   "metadata": {},
   "outputs": [],
   "source": [
    "df = df.drop(columns=['ID'], axis=1)"
   ]
  },
  {
   "cell_type": "markdown",
   "id": "dfe2ab6a-6c94-4c79-ad31-1dc6dc7459c5",
   "metadata": {},
   "source": [
    "## Handling Missing Values"
   ]
  },
  {
   "cell_type": "code",
   "execution_count": 166,
   "id": "f41562f4-dda0-4187-9fce-a19ce1bd8a6c",
   "metadata": {},
   "outputs": [],
   "source": [
    "# Separate numerical and categorical columns\n",
    "numerical_columns = df.select_dtypes(include=['int64', 'float64']).columns\n",
    "categorical_columns = df.select_dtypes(include=['object', 'category']).columns\n",
    "\n",
    "# Impute numerical features with mean\n",
    "for columns in numerical_columns:\n",
    "    df[columns].fillna(df[columns].mean(), inplace=True)\n",
    "\n",
    "# Impute categorical features with mode\n",
    "for columns in categorical_columns:\n",
    "    df[columns].fillna(df[columns].mode()[0], inplace=True)"
   ]
  },
  {
   "cell_type": "code",
   "execution_count": 168,
   "id": "361bcd92-5892-4923-8d64-1e7c35d03f77",
   "metadata": {},
   "outputs": [
    {
     "data": {
      "text/plain": [
       "Age                     0\n",
       "Gender                  0\n",
       "Education_Level         0\n",
       "Occupation              0\n",
       "Income_Level            0\n",
       "Medical_Condition       0\n",
       "Social_Behavior         0\n",
       "Peer_Influence          0\n",
       "Living_Situation        0\n",
       "Legal_Issues            0\n",
       "Drug_Motive             0\n",
       "Social_Time_Spent       0\n",
       "Life_Failure            0\n",
       "Mental_Health_Issues    0\n",
       "Lives_With_User         0\n",
       "Smoking_Status          0\n",
       "Drug_Experience         0\n",
       "Friend_Influence        0\n",
       "Willingness_To_Try      0\n",
       "Self_Control            0\n",
       "Usage_Frequency         0\n",
       "Label                   0\n",
       "dtype: int64"
      ]
     },
     "execution_count": 168,
     "metadata": {},
     "output_type": "execute_result"
    }
   ],
   "source": [
    "# rechecking missing values\n",
    "\n",
    "df.isna().sum()"
   ]
  },
  {
   "cell_type": "markdown",
   "id": "300bf312-92e1-4c71-9fc4-595d875e0b73",
   "metadata": {},
   "source": [
    "# Data Visualization (Key Features)"
   ]
  },
  {
   "cell_type": "code",
   "execution_count": 171,
   "id": "f05c7c55-ead7-4756-887e-8a4abf763451",
   "metadata": {},
   "outputs": [
    {
     "data": {
      "image/png": "[encoded data removed]",
      "text/plain": [
       "<Figure size 600x400 with 1 Axes>"
      ]
     },
     "metadata": {},
     "output_type": "display_data"
    },
    {
     "name": "stdout",
     "output_type": "stream",
     "text": [
      "\n",
      "\n"
     ]
    },
    {
     "data": {
      "image/png": "[encoded data removed]",
      "text/plain": [
       "<Figure size 600x400 with 1 Axes>"
      ]
     },
     "metadata": {},
     "output_type": "display_data"
    },
    {
     "name": "stdout",
     "output_type": "stream",
     "text": [
      "\n",
      "\n"
     ]
    },
    {
     "data": {
      "image/png": "[encoded data removed]",
      "text/plain": [
       "<Figure size 800x400 with 1 Axes>"
      ]
     },
     "metadata": {},
     "output_type": "display_data"
    },
    {
     "name": "stdout",
     "output_type": "stream",
     "text": [
      "\n",
      "\n"
     ]
    },
    {
     "data": {
      "image/png": "[encoded data removed]",
      "text/plain": [
       "<Figure size 800x500 with 1 Axes>"
      ]
     },
     "metadata": {},
     "output_type": "display_data"
    },
    {
     "name": "stdout",
     "output_type": "stream",
     "text": [
      "\n",
      "\n"
     ]
    },
    {
     "data": {
      "image/png": "[encoded data removed]",
      "text/plain": [
       "<Figure size 800x500 with 1 Axes>"
      ]
     },
     "metadata": {},
     "output_type": "display_data"
    }
   ],
   "source": [
    "# Label distribution\n",
    "plt.figure(figsize=(6, 4))\n",
    "sns.countplot(data=df, x='Label', palette='Set2')\n",
    "plt.title(\"Distribution of Target Labels\")\n",
    "plt.xlabel('Target Label')\n",
    "plt.ylabel('Count')\n",
    "plt.tight_layout()\n",
    "plt.show()\n",
    "\n",
    "print('\\n')\n",
    "\n",
    "# Gender distribution\n",
    "plt.figure(figsize=(6, 4))\n",
    "sns.countplot(data=df, x='Gender', hue='Label', palette='Set2')\n",
    "plt.title('Gender vs Drug Addiction')\n",
    "plt.xlabel('Gender')\n",
    "plt.ylabel('Count')\n",
    "plt.tight_layout()\n",
    "plt.show()\n",
    "\n",
    "print('\\n')\n",
    "\n",
    "# Age distribution\n",
    "plt.figure(figsize=(8, 4))\n",
    "sns.histplot(data=df, x='Age', bins=20, kde=True, color='skyblue')\n",
    "plt.title(\"Age Distribution\")\n",
    "plt.tight_layout()\n",
    "plt.show()\n",
    "\n",
    "print('\\n')\n",
    "\n",
    "# Age distribution by addiction\n",
    "plt.figure(figsize=(8, 5))\n",
    "sns.histplot(data=df, x='Age', hue='Label', kde=True, element='step', palette='Set1')\n",
    "plt.title('Age Distribution by Drug Addiction')\n",
    "plt.xlabel('Age')\n",
    "plt.ylabel('Frequency')\n",
    "plt.tight_layout()\n",
    "plt.show()\n",
    "\n",
    "print('\\n')\n",
    "\n",
    "# Usage Frequency distribution\n",
    "usage_counts = df['Usage_Frequency'].value_counts()\n",
    "plt.figure(figsize=(8, 5))\n",
    "sns.barplot(y=usage_counts.index, x=usage_counts.values, palette='coolwarm')\n",
    "plt.title(\"Usage Frequency Distribution\")\n",
    "plt.xlabel(\"Count\")\n",
    "plt.ylabel(\"Usage Frequency\")\n",
    "plt.tight_layout()\n",
    "plt.show()"
   ]
  },
  {
   "cell_type": "raw",
   "id": "4ae277ce-00c3-4e03-9457-dc9e93dd93b6",
   "metadata": {},
   "source": []
  },
  {
   "cell_type": "markdown",
   "id": "90c807f3-0950-493a-8336-a5aa21ff2001",
   "metadata": {},
   "source": [
    "# Conversion of Categorical Data to Numeric"
   ]
  },
  {
   "cell_type": "markdown",
   "id": "52103693-d954-4df7-93d3-25a8efc57797",
   "metadata": {},
   "source": [
    "## Checking Categories of each categorical Data"
   ]
  },
  {
   "cell_type": "code",
   "execution_count": 175,
   "id": "b3147673-29b7-4480-ab4f-07d5ba036ecf",
   "metadata": {},
   "outputs": [
    {
     "data": {
      "text/plain": [
       "Gender\n",
       "Female    24306\n",
       "Male      23605\n",
       "Other      2089\n",
       "Name: count, dtype: int64"
      ]
     },
     "execution_count": 175,
     "metadata": {},
     "output_type": "execute_result"
    }
   ],
   "source": [
    "df.Gender.value_counts()"
   ]
  },
  {
   "cell_type": "code",
   "execution_count": 177,
   "id": "d51887ff-46a1-40c6-8581-2ead4d91e27c",
   "metadata": {},
   "outputs": [
    {
     "data": {
      "text/plain": [
       "Education_Level\n",
       "High School            20219\n",
       "Bachelor's             12643\n",
       "No Formal Education     9985\n",
       "Master's                4612\n",
       "PhD                     2541\n",
       "Name: count, dtype: int64"
      ]
     },
     "execution_count": 177,
     "metadata": {},
     "output_type": "execute_result"
    }
   ],
   "source": [
    "df.Education_Level.value_counts()"
   ]
  },
  {
   "cell_type": "code",
   "execution_count": 179,
   "id": "fe6bcf90-e73c-4dde-b8b3-c783447f3274",
   "metadata": {},
   "outputs": [
    {
     "data": {
      "text/plain": [
       "Occupation\n",
       "Student       10235\n",
       "Unemployed     7385\n",
       "Teacher        5093\n",
       "Business       5073\n",
       "Laborer        5065\n",
       "Engineer       5051\n",
       "Clerk          4798\n",
       "Artist         3803\n",
       "Doctor         3497\n",
       "Name: count, dtype: int64"
      ]
     },
     "execution_count": 179,
     "metadata": {},
     "output_type": "execute_result"
    }
   ],
   "source": [
    "df.Occupation.value_counts()"
   ]
  },
  {
   "cell_type": "code",
   "execution_count": 181,
   "id": "dc99b93c-e674-4690-b846-0bab86271666",
   "metadata": {},
   "outputs": [
    {
     "data": {
      "text/plain": [
       "Income_Level\n",
       "Low       25209\n",
       "Medium    17432\n",
       "High       7359\n",
       "Name: count, dtype: int64"
      ]
     },
     "execution_count": 181,
     "metadata": {},
     "output_type": "execute_result"
    }
   ],
   "source": [
    "df.Income_Level.value_counts()"
   ]
  },
  {
   "cell_type": "code",
   "execution_count": 183,
   "id": "eaa9af7c-2f1e-4744-b938-941ef2435d44",
   "metadata": {},
   "outputs": [
    {
     "data": {
      "text/plain": [
       "Medical_Condition\n",
       "Healthy          24562\n",
       "Diabetes          5198\n",
       "Heart Disease     5109\n",
       "Anxiety           5103\n",
       "Hypertension      5090\n",
       "Depression        4938\n",
       "Name: count, dtype: int64"
      ]
     },
     "execution_count": 183,
     "metadata": {},
     "output_type": "execute_result"
    }
   ],
   "source": [
    "df.Medical_Condition.value_counts()"
   ]
  },
  {
   "cell_type": "code",
   "execution_count": 185,
   "id": "b5006916-992f-4920-91c6-0f5d59093097",
   "metadata": {},
   "outputs": [
    {
     "data": {
      "text/plain": [
       "Social_Behavior\n",
       "No Criminal Record    27991\n",
       "Multiple Arrests       5924\n",
       "Minor Offense          5501\n",
       "Rehab Attended         5471\n",
       "Therapy Ongoing        5113\n",
       "Name: count, dtype: int64"
      ]
     },
     "execution_count": 185,
     "metadata": {},
     "output_type": "execute_result"
    }
   ],
   "source": [
    "df.Social_Behavior.value_counts()"
   ]
  },
  {
   "cell_type": "code",
   "execution_count": 186,
   "id": "1851c029-7c82-4818-9203-d386a94693ef",
   "metadata": {},
   "outputs": [
    {
     "data": {
      "text/plain": [
       "Peer_Influence\n",
       "No Influence        19713\n",
       "Some Friends Use    14826\n",
       "Many Friends Use    10130\n",
       "Peer Pressure        5331\n",
       "Name: count, dtype: int64"
      ]
     },
     "execution_count": 186,
     "metadata": {},
     "output_type": "execute_result"
    }
   ],
   "source": [
    "df.Peer_Influence.value_counts()"
   ]
  },
  {
   "cell_type": "code",
   "execution_count": 189,
   "id": "3e2e1fd1-ca6b-4c22-a2f2-c4fad9156148",
   "metadata": {},
   "outputs": [
    {
     "data": {
      "text/plain": [
       "Living_Situation\n",
       "With Family/Relatives    39492\n",
       "Hostel/Hall               7946\n",
       "Alone                     2562\n",
       "Name: count, dtype: int64"
      ]
     },
     "execution_count": 189,
     "metadata": {},
     "output_type": "execute_result"
    }
   ],
   "source": [
    "df.Living_Situation.value_counts()"
   ]
  },
  {
   "cell_type": "code",
   "execution_count": 191,
   "id": "14304498-8945-48ac-9518-98632537a51a",
   "metadata": {},
   "outputs": [
    {
     "data": {
      "text/plain": [
       "Legal_Issues\n",
       "No     42886\n",
       "Yes     7114\n",
       "Name: count, dtype: int64"
      ]
     },
     "execution_count": 191,
     "metadata": {},
     "output_type": "execute_result"
    }
   ],
   "source": [
    "df.Legal_Issues.value_counts()"
   ]
  },
  {
   "cell_type": "code",
   "execution_count": 193,
   "id": "4bf21038-3bd2-4534-9649-121762a2f619",
   "metadata": {},
   "outputs": [
    {
     "data": {
      "text/plain": [
       "Drug_Motive\n",
       "Disease, Should avoid                  35682\n",
       "Disease                                 6252\n",
       "Social trend                            3797\n",
       "Should avoid                            3501\n",
       "Social trend, Should avoid               387\n",
       "Disease, Social trend                    222\n",
       "Disease, Social trend, Should avoid      159\n",
       "Name: count, dtype: int64"
      ]
     },
     "execution_count": 193,
     "metadata": {},
     "output_type": "execute_result"
    }
   ],
   "source": [
    "df.Drug_Motive.value_counts()"
   ]
  },
  {
   "cell_type": "code",
   "execution_count": 195,
   "id": "2361ebbd-5364-4add-934a-16c18f0d765c",
   "metadata": {},
   "outputs": [
    {
     "data": {
      "text/plain": [
       "Social_Time_Spent\n",
       "Friends              30381\n",
       "Family/ Relatives     8085\n",
       "Alone                 5017\n",
       "Job/Work place        2805\n",
       "Hostel                1899\n",
       "Business               917\n",
       "School                 896\n",
       "Name: count, dtype: int64"
      ]
     },
     "execution_count": 195,
     "metadata": {},
     "output_type": "execute_result"
    }
   ],
   "source": [
    "df.Social_Time_Spent.value_counts()"
   ]
  },
  {
   "cell_type": "code",
   "execution_count": 197,
   "id": "84dbc9de-905f-4cf0-8249-c459e83824bc",
   "metadata": {},
   "outputs": [
    {
     "data": {
      "text/plain": [
       "Life_Failure\n",
       "No     39186\n",
       "Yes    10814\n",
       "Name: count, dtype: int64"
      ]
     },
     "execution_count": 197,
     "metadata": {},
     "output_type": "execute_result"
    }
   ],
   "source": [
    "df.Life_Failure.value_counts()"
   ]
  },
  {
   "cell_type": "code",
   "execution_count": 199,
   "id": "617031cb-cbca-4627-84cf-5cbc5830b95b",
   "metadata": {},
   "outputs": [
    {
     "data": {
      "text/plain": [
       "Mental_Health_Issues\n",
       "Anxiety/Stress         16753\n",
       "Depression/Guilt       14904\n",
       "None / I don't know    12556\n",
       "Anger Issues            4595\n",
       "Multiple Conditions     1192\n",
       "Name: count, dtype: int64"
      ]
     },
     "execution_count": 199,
     "metadata": {},
     "output_type": "execute_result"
    }
   ],
   "source": [
    "df.Mental_Health_Issues.value_counts()"
   ]
  },
  {
   "cell_type": "code",
   "execution_count": 201,
   "id": "2a5863c9-8482-4b41-9b5d-4084579e459a",
   "metadata": {},
   "outputs": [
    {
     "data": {
      "text/plain": [
       "Lives_With_User\n",
       "No          39778\n",
       "Yes         10047\n",
       "Not sure      175\n",
       "Name: count, dtype: int64"
      ]
     },
     "execution_count": 201,
     "metadata": {},
     "output_type": "execute_result"
    }
   ],
   "source": [
    "df.Lives_With_User.value_counts()"
   ]
  },
  {
   "cell_type": "code",
   "execution_count": 203,
   "id": "a294de4c-0702-469e-ae5e-bb5e0e905b91",
   "metadata": {},
   "outputs": [
    {
     "data": {
      "text/plain": [
       "Smoking_Status\n",
       "Yes, every day.      33146\n",
       "Yes, occasionally     8812\n",
       "No, I don't           8042\n",
       "Name: count, dtype: int64"
      ]
     },
     "execution_count": 203,
     "metadata": {},
     "output_type": "execute_result"
    }
   ],
   "source": [
    "df.Smoking_Status.value_counts()"
   ]
  },
  {
   "cell_type": "code",
   "execution_count": 205,
   "id": "b5592ca8-4b36-44a0-bd36-1f46709c83d5",
   "metadata": {},
   "outputs": [
    {
     "data": {
      "text/plain": [
       "Drug_Experience\n",
       "Yes    42381\n",
       "No      7619\n",
       "Name: count, dtype: int64"
      ]
     },
     "execution_count": 205,
     "metadata": {},
     "output_type": "execute_result"
    }
   ],
   "source": [
    "df.Drug_Experience.value_counts()"
   ]
  },
  {
   "cell_type": "code",
   "execution_count": 207,
   "id": "f3bf1002-504e-4d0c-94bd-b5036d6a68a4",
   "metadata": {},
   "outputs": [
    {
     "data": {
      "text/plain": [
       "Friend_Influence\n",
       "No, they don't        40096\n",
       "Yes, often they do     9904\n",
       "Name: count, dtype: int64"
      ]
     },
     "execution_count": 207,
     "metadata": {},
     "output_type": "execute_result"
    }
   ],
   "source": [
    "df.Friend_Influence.value_counts()"
   ]
  },
  {
   "cell_type": "code",
   "execution_count": 209,
   "id": "b0542c37-6dff-4e4b-965a-8d367db2075f",
   "metadata": {},
   "outputs": [
    {
     "data": {
      "text/plain": [
       "Willingness_To_Try\n",
       "no       33749\n",
       "maybe     8152\n",
       "yes       8099\n",
       "Name: count, dtype: int64"
      ]
     },
     "execution_count": 209,
     "metadata": {},
     "output_type": "execute_result"
    }
   ],
   "source": [
    "df.Willingness_To_Try.value_counts()"
   ]
  },
  {
   "cell_type": "code",
   "execution_count": 211,
   "id": "356c8c17-6bc5-4e6c-b1d4-e4d8958a8189",
   "metadata": {},
   "outputs": [
    {
     "data": {
      "text/plain": [
       "Self_Control\n",
       "No, It's not possible    40420\n",
       "Yes, It's possible        9580\n",
       "Name: count, dtype: int64"
      ]
     },
     "execution_count": 211,
     "metadata": {},
     "output_type": "execute_result"
    }
   ],
   "source": [
    "df.Self_Control.value_counts()"
   ]
  },
  {
   "cell_type": "code",
   "execution_count": 213,
   "id": "8d1a9675-9d7d-47cd-841f-9527d045ba53",
   "metadata": {},
   "outputs": [
    {
     "data": {
      "text/plain": [
       "Usage_Frequency\n",
       "Regularly                32728\n",
       "Never/ Not applicable     7427\n",
       "Occasionally              5227\n",
       "Once/twice a week         4618\n",
       "Name: count, dtype: int64"
      ]
     },
     "execution_count": 213,
     "metadata": {},
     "output_type": "execute_result"
    }
   ],
   "source": [
    "df.Usage_Frequency.value_counts()"
   ]
  },
  {
   "cell_type": "code",
   "execution_count": 215,
   "id": "d1211527-649e-48e0-92f4-14aa0d81d2df",
   "metadata": {},
   "outputs": [
    {
     "data": {
      "text/plain": [
       "Label\n",
       "Non-Addict     40073\n",
       "Drug Addict     9927\n",
       "Name: count, dtype: int64"
      ]
     },
     "execution_count": 215,
     "metadata": {},
     "output_type": "execute_result"
    }
   ],
   "source": [
    "df.Label.value_counts()"
   ]
  },
  {
   "cell_type": "raw",
   "id": "df6bdf71-d5d8-436f-9b83-6331434e2b17",
   "metadata": {},
   "source": []
  },
  {
   "cell_type": "markdown",
   "id": "b9c32174-d0ac-49a0-afc2-3e9e66ed9e85",
   "metadata": {},
   "source": [
    "# Splitting the Data into Features (X) and Target (y)"
   ]
  },
  {
   "cell_type": "code",
   "execution_count": 218,
   "id": "59d2a222-7a0b-4a31-a97f-808ec0ddf31f",
   "metadata": {},
   "outputs": [],
   "source": [
    "X = df.drop(columns=['Label'], axis=1)\n",
    "y = df['Label']\n",
    "\n",
    "X_train, X_test, y_train, y_test = train_test_split(X, y, stratify=y, random_state=42, test_size=0.2)"
   ]
  },
  {
   "cell_type": "markdown",
   "id": "e62dde5c-01c8-491d-a270-6716567e6264",
   "metadata": {},
   "source": [
    "# Converting the Categorical Data into Numeric Data"
   ]
  },
  {
   "cell_type": "markdown",
   "id": "f8315571-3e4b-4bc0-895f-8b8163fb7e48",
   "metadata": {},
   "source": [
    "### Mapping Labels (0: Non-Addict, 1:Drug Addict)"
   ]
  },
  {
   "cell_type": "code",
   "execution_count": 222,
   "id": "ee278ae6-b27f-41f5-bbc0-51a4ec615a44",
   "metadata": {},
   "outputs": [],
   "source": [
    "le = LabelEncoder()\n",
    "y_train = le.fit_transform(y_train)  # Now 'Non-Addict' -> 0, 'Drug Addict' -> 1\n",
    "y_test = le.transform(y_test)\n"
   ]
  },
  {
   "cell_type": "markdown",
   "id": "5155669b-a1d6-4e78-a6e1-12966f55be12",
   "metadata": {},
   "source": [
    "#### Creating a numeric Pipeline for Scaling Age using Standard Scalar"
   ]
  },
  {
   "cell_type": "code",
   "execution_count": 225,
   "id": "c1b5f983-3008-4cfd-a07d-fd2c88681dbf",
   "metadata": {},
   "outputs": [],
   "source": [
    "numeric_features = ['Age']\n",
    "numeric_transformer = Pipeline(steps=[\n",
    "    ('scaler', StandardScaler())\n",
    "])"
   ]
  },
  {
   "cell_type": "markdown",
   "id": "52705465-2de1-4f39-8c56-90c16fcbdbd3",
   "metadata": {},
   "source": [
    "#### Convert Ordinal Data into Numeric"
   ]
  },
  {
   "cell_type": "code",
   "execution_count": 228,
   "id": "e9c66a19-e118-47f3-9ec8-cbf06031485f",
   "metadata": {},
   "outputs": [],
   "source": [
    "# ordinal_transformer = ColumnTransformer(\n",
    "#     transformers=[\n",
    "#         ('Education_Level', OrdinalEncoder(categories=['No Formal Education', 'High School', \"Bachelor's\", \"Master's\", 'PhD']), ['Education_Level']),\n",
    "#         ('Income_Level', OrdinalEncoder(categories=['Low', 'Medium', 'High']), ['Income_Level']),\n",
    "#         ('Peer_Influence', OrdinalEncoder(categories=['No Influence', 'Some Friends Use', 'Many Friends Use', 'Peer Pressure']), ['Peer_Influence']),\n",
    "#         ('Legal_Issues', OrdinalEncoder(categories=['No', 'Yes']), ['Legal_Issues']),\n",
    "#         ('Life_Failure', OrdinalEncoder(categories=['No', 'Yes']), ['Life_Failure']),\n",
    "#         ('Lives_With_User', OrdinalEncoder(categories=['No', 'Yes']), ['Lives_With_User']),\n",
    "#         ('Smoking_Status', OrdinalEncoder(categories=[\"No, I don't\", \"Yes, occasionally\", \"Yes, every day.\"]), ['Smoking_Status']),\n",
    "#         ('Drug_Experience', OrdinalEncoder(categories=['No', 'Yes']), ['Drug_Experience']),\n",
    "#         ('Friend_Influence', OrdinalEncoder(categories=[\"No, they don't\", \"Yes, often they do\"]), ['Friend_Influence']),\n",
    "#         ('Willingness_To_Try', OrdinalEncoder(categories=['no', 'maybe', 'yes']), ['Willingness_To_Try']),\n",
    "#         ('Self_Control', OrdinalEncoder(categories=[\"No, It's not possible\", \"Yes, It's possible\"]), ['Self_Control']),\n",
    "#         ('Usage_Frequency', OrdinalEncoder(categories=[\"Never/ Not applicable\", \"Occasionally\", \"Once/twice a week\", \"Regularly\"]), ['Usage_Frequency'])\n",
    "        \n",
    "#     ], remainder='passthrough'\n",
    "# )"
   ]
  },
  {
   "cell_type": "code",
   "execution_count": 230,
   "id": "2c1a9999-f730-4013-b7c9-18146f8cfbca",
   "metadata": {},
   "outputs": [],
   "source": [
    "# one_hot_transformer = ColumnTransformer(\n",
    "#     [\n",
    "#         ('Gender', OneHotEncoder(sparse_output=False, drop='first'), ['Gender']),\n",
    "#         ('Occupation', OneHotEncoder(sparse_output=False, drop='first'), ['Occupation']),\n",
    "#         ('Medical_Condition' ,OneHotEncoder(sparse_output=False, drop='first'), ['Medical_Condition']),\n",
    "#         ('Social_Behavior', OneHotEncoder(sparse_output=False, drop='first'), ['Social_Behavior']),\n",
    "#         ('Living_Situation', OneHotEncoder(sparse_output=False, drop='first'), ['Living_Situation']),\n",
    "#         ('Drug_Motive', OneHotEncoder(sparse_output=False, drop='first'), ['Drug_Motive']),\n",
    "#         ('Social_Time_Spent', OneHotEncoder(sparse_output=False, drop='first'), ['Social_Time_Spent']),\n",
    "#         ('Mental_Health_Issues', OneHotEncoder(sparse_output=False, drop='first'), ['Mental_Health_Issues'])\n",
    "        \n",
    "#     ], remainder= 'passthrough'\n",
    "# )"
   ]
  },
  {
   "cell_type": "markdown",
   "id": "fd30a282-2ed1-4582-a899-f56d10f4cc91",
   "metadata": {},
   "source": [
    "### Creating an Ordinal Encoding Pipeline"
   ]
  },
  {
   "cell_type": "code",
   "execution_count": 233,
   "id": "20785a44-829c-461e-9303-69ef078ad01e",
   "metadata": {},
   "outputs": [],
   "source": [
    "# Ordinal categorical features\n",
    "ordinal_features = {\n",
    "    'Education_Level': ['No Formal Education', 'High School', \"Bachelor's\", \"Master's\", 'PhD'],\n",
    "    'Income_Level': ['Low', 'Medium', 'High'],\n",
    "    'Peer_Influence': ['No Influence', 'Some Friends Use', 'Many Friends Use', 'Peer Pressure'],\n",
    "    'Legal_Issues': ['No', 'Yes'],\n",
    "    'Life_Failure': ['No', 'Yes'],\n",
    "    'Smoking_Status': [\"No, I don't\", \"Yes, occasionally\", \"Yes, every day.\"],\n",
    "    'Drug_Experience': ['No', 'Yes'],\n",
    "    'Friend_Influence': [\"No, they don't\", \"Yes, often they do\"],\n",
    "    'Willingness_To_Try': ['no', 'maybe', 'yes'],\n",
    "    'Self_Control': [\"No, It's not possible\", \"Yes, It's possible\"],\n",
    "    'Usage_Frequency': [\"Never/ Not applicable\", \"Occasionally\", \"Once/twice a week\", \"Regularly\"]\n",
    "}\n",
    "\n",
    "\n",
    "ordinal_transformer = Pipeline(steps=[\n",
    "    ('ordinal_encoder', OrdinalEncoder(categories=[value for value in ordinal_features.values()]))\n",
    "])\n",
    "\n",
    "ordinal_columns = list(ordinal_features.keys())"
   ]
  },
  {
   "cell_type": "markdown",
   "id": "d41e6586-c7bd-47f2-baf2-da36ea55bb0d",
   "metadata": {},
   "source": [
    "### Creating an One Hot Encoding Pipeline"
   ]
  },
  {
   "cell_type": "code",
   "execution_count": 236,
   "id": "de1b9b08-207a-44b9-a054-089624005a91",
   "metadata": {},
   "outputs": [],
   "source": [
    "# One-hot categorical features\n",
    "onehot_features = [\n",
    "    'Gender', 'Occupation', 'Medical_Condition', 'Social_Behavior',\n",
    "    'Living_Situation', 'Drug_Motive', 'Social_Time_Spent', 'Mental_Health_Issues', 'Lives_With_User'\n",
    "]\n",
    "\n",
    "\n",
    "onehot_transformer = Pipeline(steps=[('onehot', OneHotEncoder(sparse_output=False, drop='first', handle_unknown='ignore'))])\n"
   ]
  },
  {
   "cell_type": "raw",
   "id": "1a19f2bd-8521-4a21-a76b-82dd45d7a57e",
   "metadata": {},
   "source": []
  },
  {
   "cell_type": "markdown",
   "id": "cb50d0ae-6547-4f88-a2df-16b8cb189ba5",
   "metadata": {},
   "source": [
    "# Combining All the Pipelines in one Column Transformer"
   ]
  },
  {
   "cell_type": "code",
   "execution_count": 240,
   "id": "768c2494-b4ef-4e81-98e1-75fa96eafc3c",
   "metadata": {},
   "outputs": [],
   "source": [
    "preprocessor = ColumnTransformer(\n",
    "    transformers=[\n",
    "        ('num', numeric_transformer, numeric_features),\n",
    "        ('ord', ordinal_transformer, ordinal_columns),\n",
    "        ('ohe', onehot_transformer, onehot_features)\n",
    "    ],\n",
    "    remainder='passthrough'  # Pass through any extra columns if needed\n",
    ")"
   ]
  },
  {
   "cell_type": "code",
   "execution_count": 64,
   "id": "df6ee598-7b00-459b-be68-ed0c411864fa",
   "metadata": {},
   "outputs": [],
   "source": [
    "# full_pipeline = Pipeline([\n",
    "#     ('preprocessing', preprocessor),\n",
    "#     ('smote', SMOTE(random_state=42)),\n",
    "#     ('pca', PCA(n_components=0.95))\n",
    "# ])\n"
   ]
  },
  {
   "cell_type": "code",
   "execution_count": 65,
   "id": "a3dd90ef-0939-406a-836f-6439ffc8addd",
   "metadata": {},
   "outputs": [],
   "source": [
    "# pipeline = Pipeline(\n",
    "#     [\n",
    "#         ('standard_scalar', standard_scalar_transformer),\n",
    "#         ('ordinal_encoding', ordinal_transformer),\n",
    "#         ('one_hot_encoding', one_hot_transformer),\n",
    "#         ('smote',SMOTE(random_state=42, sampling_strategy=1.0)),\n",
    "#         ('PCA', PCA(n_components=0.95))\n",
    "#     ]\n",
    "# )"
   ]
  },
  {
   "cell_type": "code",
   "execution_count": 66,
   "id": "e8eea717-b923-425f-9612-5e3ee8702d47",
   "metadata": {},
   "outputs": [],
   "source": [
    "# # Define preprocessing pipeline (without SMOTE)\n",
    "# preprocessing_pipeline = Pipeline([\n",
    "#     ('standard_scalar', standard_scalar_transformer),\n",
    "#     ('ordinal_encoding', ordinal_transformer),\n",
    "#     ('one_hot_encoding', one_hot_transformer),\n",
    "#     ('pca', PCA(n_components=0.95))\n",
    "# ])"
   ]
  },
  {
   "cell_type": "code",
   "execution_count": 67,
   "id": "83702a6f-61cb-457a-8828-3c625c32c9e5",
   "metadata": {},
   "outputs": [],
   "source": [
    "# # Fit only on training set to avoid data leakage\n",
    "# X_train_transformed = preprocessing_pipeline.fit_transform(X_train)\n",
    "# X_test_transformed = preprocessing_pipeline.transform(X_test)\n"
   ]
  },
  {
   "cell_type": "code",
   "execution_count": 68,
   "id": "3f2b6838-8b13-4fb5-bd4e-66aea004816c",
   "metadata": {},
   "outputs": [],
   "source": [
    "# models = {\n",
    "#     \"Logistic Regression\": LogisticRegression(),\n",
    "#     \"Decision Tree\": DecisionTreeClassifier(),\n",
    "#     \"Random Forest\": RandomForestClassifier(),\n",
    "#     \"SVM (RBF Kernel)\": SVC(probability=True),\n",
    "#     \"XGBoost\": XGBClassifier(use_label_encoder=False, eval_metric='logloss')\n",
    "# }\n",
    "\n",
    "# results = {}\n",
    "\n",
    "# for name, model in models.items():\n",
    "#     model.fit(X_train_smote, y_train_smote)\n",
    "#     y_pred_test = model.predict(X_test_transformed)\n",
    "#     y_pred_train = model.predict(X_train_smote)\n",
    "#     results[name] = {\n",
    "#         \"Accuracy\": accuracy_score(y_test, y_pred_test),\n",
    "#         \"Precision\": precision_score(y_test, y_pred_test),\n",
    "#         \"Recall\": recall_score(y_test, y_pred_test),\n",
    "#         \"F1-Score\": f1_score(y_test, y_pred_test),\n",
    "#         \"AUC-ROC\": roc_auc_score(y_test, model.predict_proba(X_test_transformed)[:, 1])\n",
    "#     }\n"
   ]
  },
  {
   "cell_type": "markdown",
   "id": "0db603b1-08de-4c8f-8b84-66abb85bdbb6",
   "metadata": {},
   "source": [
    "## Hyper Parameter Tuning Using Randomized Search CV"
   ]
  },
  {
   "cell_type": "code",
   "execution_count": 70,
   "id": "18ce69f2-99d4-45dd-afb9-6a6dc711d135",
   "metadata": {},
   "outputs": [],
   "source": [
    "def hyper_parameter_tuning(model, param_grid, X_train, y_train):\n",
    "    from sklearn.model_selection import RandomizedSearchCV\n",
    "    \n",
    "    random_cv = RandomizedSearchCV(model, param_distributions=param_grid, cv=5, verbose=3, scoring='accuracy', n_jobs=-1)\n",
    "    random_cv.fit(X_train, y_train)\n",
    "    print()\n",
    "    # print(\"Best Estimator \\n\", random_cv.estimator)\n",
    "    print(\"Best Cross-Validated Score:\", random_cv.best_score_)\n",
    "    print('\\n')\n",
    "    \n",
    "    return random_cv.best_estimator_"
   ]
  },
  {
   "cell_type": "markdown",
   "id": "ac04ed07-431c-4afd-bd4c-4361860f7e65",
   "metadata": {},
   "source": [
    "## Hyper Parameters for Randomized Search CV"
   ]
  },
  {
   "cell_type": "code",
   "execution_count": 72,
   "id": "52b27d07-ab86-4510-9b3b-183a76fb2957",
   "metadata": {},
   "outputs": [],
   "source": [
    "# # Logistic Regression Hyper Parameters\n",
    "# logistic_regression_param_grid = {\n",
    "#     'classifier__C': [0.001, 0.01, 0.1, 1, 10, 100],  # Regularization strength\n",
    "#     'classifier__penalty': ['l1', 'l2'],  # Type of regularization\n",
    "#     'classifier__solver': ['liblinear', 'saga']  # Optimizers supporting l1/l2 penalties\n",
    "#     }\n",
    "\n",
    "\n",
    "# # Decision Tree Hyper Parameters\n",
    "# decision_tree_param_grid = {\n",
    "#     'classifier__max_depth': [3, 5, 10, None],\n",
    "#     'classifier__min_samples_split': [2, 5, 10],\n",
    "#     'classifier__min_samples_leaf': [1, 2, 4],\n",
    "#     'classifier__criterion': ['gini', 'entropy']\n",
    "#     }\n",
    "\n",
    "\n",
    "# # SVM Hyper Parameters\n",
    "# svm_param_grid = {\n",
    "#     'classifier__C': [0.1, 1, 10, 100, 1000],\n",
    "#     'classifier__gamma': [1, 0.1, 0.01, 0.001, 0.0001],\n",
    "#     'classifier__kernel': ['rbf', 'linear', 'poly', 'sigmoid']\n",
    "#     }\n",
    "\n",
    "\n",
    "# # Random Forest Hyper Parameters\n",
    "# random_forest_param_grid = {\n",
    "#     'classifier__n_estimators': [100, 200, 300, 400, 500],  # Number of trees in the forest\n",
    "#     'classifier__max_features': ['sqrt', 'log2', None],  # Number of features considered for best split\n",
    "#     'classifier__max_depth': [10, 20, 30, None],  # Maximum depth of the tree\n",
    "#     'classifier__min_samples_split': [2, 5, 10],  # Minimum samples required to split an internal node\n",
    "#     'classifier__min_samples_leaf': [1, 2, 4]  # Minimum samples required at a leaf node\n",
    "#     # 'bootstrap': [True, False]  # Whether bootstrap samples are used when building trees\n",
    "#     }\n",
    "\n",
    "\n",
    "# # XGBoost Hyper Parameters\n",
    "# xgb_param_grid = {\n",
    "#     'classifier__n_estimators': [100, 200, 300],         # Number of trees\n",
    "#     'classifier__max_depth': [3, 5, 7, 10],              # Maximum depth of a tree\n",
    "#     'classifier__learning_rate': [0.01, 0.1, 0.2, 0.3],  # Step size shrinkage\n",
    "#     'classifier__subsample': [0.6, 0.8, 1.0],            # % of samples used per tree\n",
    "#     'classifier__colsample_bytree': [0.6, 0.8, 1.0],     # % of features used per tree\n",
    "#     'classifier__gamma': [0, 0.1, 0.3],                  # Minimum loss reduction\n",
    "#     'classifier__reg_lambda': [0.1, 1.0, 10],            # L2 regularization\n",
    "#     'classifier__reg_alpha': [0, 0.1, 1.0]               # L1 regularization\n",
    "# }\n"
   ]
  },
  {
   "cell_type": "code",
   "execution_count": 73,
   "id": "5a8377cf-84a7-451c-859c-997832da7fe6",
   "metadata": {},
   "outputs": [],
   "source": [
    "logistic_regression_param_grid = {\n",
    "    'classifier__C': [0.01, 0.1, 1, 10],\n",
    "    'classifier__penalty': ['l2'],  # 'l1' needs special handling and solver\n",
    "    'classifier__solver': ['liblinear']\n",
    "}\n",
    "\n",
    "\n",
    "decision_tree_param_grid = {\n",
    "    'classifier__max_depth': [5, 10, None],\n",
    "    'classifier__min_samples_split': [2, 5],\n",
    "    'classifier__min_samples_leaf': [1, 2],\n",
    "    'classifier__criterion': ['gini', 'entropy']\n",
    "}\n",
    "\n",
    "\n",
    "svm_param_grid = {\n",
    "    'classifier__C': [1, 10],\n",
    "    'classifier__gamma': ['scale', 0.01],  # 'scale' adapts to dataset\n",
    "    'classifier__kernel': ['rbf']\n",
    "}\n",
    "\n",
    "\n",
    "random_forest_param_grid = {\n",
    "    'classifier__n_estimators': [100, 200],\n",
    "    'classifier__max_depth': [10, 20, None],\n",
    "    'classifier__min_samples_split': [2, 5],\n",
    "    'classifier__min_samples_leaf': [1, 2]\n",
    "}\n",
    "\n",
    "\n",
    "xgb_param_grid = {\n",
    "    'classifier__n_estimators': [100, 200],\n",
    "    'classifier__max_depth': [3, 5, 7],\n",
    "    'classifier__learning_rate': [0.05, 0.1],\n",
    "    'classifier__subsample': [0.8],\n",
    "    'classifier__colsample_bytree': [0.8],\n",
    "    'classifier__reg_lambda': [1],\n",
    "    'classifier__reg_alpha': [0]\n",
    "}\n"
   ]
  },
  {
   "cell_type": "raw",
   "id": "14f5fe8c-d4f8-48c8-9cf2-33b9943ca2ee",
   "metadata": {},
   "source": []
  },
  {
   "cell_type": "markdown",
   "id": "30561531-19f4-4c93-88b3-ff50d84cd759",
   "metadata": {},
   "source": [
    "## Creating Model Pipelines"
   ]
  },
  {
   "cell_type": "code",
   "execution_count": 75,
   "id": "27b13163-7d39-446e-89ed-1c6f51a67a1a",
   "metadata": {},
   "outputs": [
    {
     "name": "stdout",
     "output_type": "stream",
     "text": [
      "Training: Logistic Regression\n",
      "Training: Decision Tree\n",
      "Training: Random Forest\n",
      "Training: SVM \n",
      "Training: XGBoost\n"
     ]
    }
   ],
   "source": [
    "# Define models\n",
    "models = {\n",
    "    \"Logistic Regression\": LogisticRegression(),\n",
    "    \"Decision Tree\": DecisionTreeClassifier(),\n",
    "    \"Random Forest\": RandomForestClassifier(),\n",
    "    \"SVM \": SVC(),\n",
    "    \"XGBoost\": XGBClassifier(use_label_encoder=False, eval_metric='logloss')\n",
    "}\n",
    "\n",
    "\n",
    "# To Do Comaprision among Models using Bar Graph\n",
    "train_results = {}\n",
    "test_results = {}\n",
    "\n",
    "# To Plot line Graph of accuracies of models during training and testing\n",
    "train_scores = []\n",
    "test_scores = []\n",
    "\n",
    "i = -1 # to use as index no. for param_grid_list\n",
    "param_grid_list = [logistic_regression_param_grid, decision_tree_param_grid, random_forest_param_grid, svm_param_grid, xgb_param_grid]\n",
    "\n",
    "# Loop over models\n",
    "for name, model in models.items():\n",
    "    i = i+1\n",
    "    print(f\"Training: {name}\")\n",
    "\n",
    "    # ---------Final Pipeline--------\n",
    "    \n",
    "    model_pipeline = Pipeline([\n",
    "        ('preprocessing', preprocessor),  # The full preprocessor with scaler, ordinal, one-hot\n",
    "        ('smote', SMOTE(random_state=42)),\n",
    "        ('pca', PCA(n_components=0.95)),\n",
    "        ('classifier', model)\n",
    "    ])\n",
    "\n",
    "    # tuned_model = hyper_parameter_tuning(model_pipeline, param_grid_list[i], X_train, y_train)    \n",
    "    # y_pred_test = tuned_model.predict(X_test)\n",
    "    # y_pred_train = tuned_model.predict(X_train)\n",
    "    \n",
    "    model_pipeline.fit(X_train, y_train)\n",
    "    y_pred_test = model_pipeline.predict(X_test)\n",
    "    y_pred_train = model_pipeline.predict(X_train)\n",
    "\n",
    "    # ---------------------- Training Data Result ------------------------- \n",
    "    train_results[name] = {\n",
    "        \"Accuracy\": accuracy_score(y_train, y_pred_train),\n",
    "        \"Precision\": precision_score(y_train, y_pred_train),\n",
    "        \"Recall\": recall_score(y_train, y_pred_train),\n",
    "        \"F1-Score\": f1_score(y_train, y_pred_train),\n",
    "        # \"AUC-ROC\": roc_auc_score(y_test, model_pipeline.predict_proba(X_test)[:, 1])\n",
    "        \"AUC-ROC\": roc_auc_score(y_train, y_pred_train)\n",
    "    }\n",
    "\n",
    "    # ---------------------- Testing Data Result -------------------------\n",
    "    \n",
    "    test_results[name] = {\n",
    "        \"Accuracy\": accuracy_score(y_test, y_pred_test),\n",
    "        \"Precision\": precision_score(y_test, y_pred_test),\n",
    "        \"Recall\": recall_score(y_test, y_pred_test),\n",
    "        \"F1-Score\": f1_score(y_test, y_pred_test),\n",
    "        # \"AUC-ROC\": roc_auc_score(y_test, model_pipeline.predict_proba(X_test)[:, 1])\n",
    "        \"AUC-ROC\": roc_auc_score(y_test, y_pred_test)\n",
    "    }\n",
    "    \n",
    "    train_scores.append(accuracy_score(y_train, y_pred_train))\n",
    "    test_scores.append(accuracy_score(y_test, y_pred_test))\n",
    "\n",
    "\n",
    "# Convert results to DataFrame and Transpose it for better view\n",
    "train_results_df = pd.DataFrame(train_results).T\n",
    "test_results_df = pd.DataFrame(test_results).T\n"
   ]
  },
  {
   "cell_type": "raw",
   "id": "60bdb742-1723-4e6b-b00a-175b75d3c331",
   "metadata": {},
   "source": []
  },
  {
   "cell_type": "markdown",
   "id": "d28aa014-7ecd-48b4-ab05-7d8d97c3caa3",
   "metadata": {},
   "source": [
    "## Model Comparison: Bar Chart"
   ]
  },
  {
   "cell_type": "code",
   "execution_count": 77,
   "id": "c70e1b94-ae5e-48f8-a904-5a74aac201b8",
   "metadata": {},
   "outputs": [],
   "source": [
    "# results_df.plot(kind='bar', figsize=(12, 6))\n",
    "# plt.title(\"Model Comparison on Various Metrics\")\n",
    "# plt.ylabel(\"Score\")\n",
    "# plt.xticks(rotation=45)\n",
    "# plt.grid(axis='y')\n",
    "# plt.tight_layout()\n",
    "# plt.show()"
   ]
  },
  {
   "cell_type": "code",
   "execution_count": null,
   "id": "ddf1a82f-82e4-4763-9095-b2fdd1ece570",
   "metadata": {},
   "outputs": [],
   "source": []
  },
  {
   "cell_type": "code",
   "execution_count": 78,
   "id": "270ce6ff-a72a-42d8-9d37-1844f8674247",
   "metadata": {},
   "outputs": [
    {
     "name": "stdout",
     "output_type": "stream",
     "text": [
      "Training Data Performance\n"
     ]
    },
    {
     "data": {
      "text/html": [
       "<div>\n",
       "<style scoped>\n",
       "    .dataframe tbody tr th:only-of-type {\n",
       "        vertical-align: middle;\n",
       "    }\n",
       "\n",
       "    .dataframe tbody tr th {\n",
       "        vertical-align: top;\n",
       "    }\n",
       "\n",
       "    .dataframe thead th {\n",
       "        text-align: right;\n",
       "    }\n",
       "</style>\n",
       "<table border=\"1\" class=\"dataframe\">\n",
       "  <thead>\n",
       "    <tr style=\"text-align: right;\">\n",
       "      <th></th>\n",
       "      <th>Accuracy</th>\n",
       "      <th>Precision</th>\n",
       "      <th>Recall</th>\n",
       "      <th>F1-Score</th>\n",
       "      <th>AUC-ROC</th>\n",
       "    </tr>\n",
       "  </thead>\n",
       "  <tbody>\n",
       "    <tr>\n",
       "      <th>Logistic Regression</th>\n",
       "      <td>0.528175</td>\n",
       "      <td>0.816658</td>\n",
       "      <td>0.530351</td>\n",
       "      <td>0.643077</td>\n",
       "      <td>0.524871</td>\n",
       "    </tr>\n",
       "    <tr>\n",
       "      <th>Decision Tree</th>\n",
       "      <td>0.999925</td>\n",
       "      <td>0.999969</td>\n",
       "      <td>0.999938</td>\n",
       "      <td>0.999953</td>\n",
       "      <td>0.999906</td>\n",
       "    </tr>\n",
       "    <tr>\n",
       "      <th>Random Forest</th>\n",
       "      <td>0.999925</td>\n",
       "      <td>0.999938</td>\n",
       "      <td>0.999969</td>\n",
       "      <td>0.999953</td>\n",
       "      <td>0.999858</td>\n",
       "    </tr>\n",
       "    <tr>\n",
       "      <th>SVM</th>\n",
       "      <td>0.908550</td>\n",
       "      <td>0.974885</td>\n",
       "      <td>0.909321</td>\n",
       "      <td>0.940962</td>\n",
       "      <td>0.907380</td>\n",
       "    </tr>\n",
       "    <tr>\n",
       "      <th>XGBoost</th>\n",
       "      <td>0.965250</td>\n",
       "      <td>0.985745</td>\n",
       "      <td>0.970678</td>\n",
       "      <td>0.978154</td>\n",
       "      <td>0.957009</td>\n",
       "    </tr>\n",
       "  </tbody>\n",
       "</table>\n",
       "</div>"
      ],
      "text/plain": [
       "                     Accuracy  Precision    Recall  F1-Score   AUC-ROC\n",
       "Logistic Regression  0.528175   0.816658  0.530351  0.643077  0.524871\n",
       "Decision Tree        0.999925   0.999969  0.999938  0.999953  0.999906\n",
       "Random Forest        0.999925   0.999938  0.999969  0.999953  0.999858\n",
       "SVM                  0.908550   0.974885  0.909321  0.940962  0.907380\n",
       "XGBoost              0.965250   0.985745  0.970678  0.978154  0.957009"
      ]
     },
     "execution_count": 78,
     "metadata": {},
     "output_type": "execute_result"
    }
   ],
   "source": [
    "print(\"Training Data Performance\")\n",
    "train_results_df"
   ]
  },
  {
   "cell_type": "code",
   "execution_count": 79,
   "id": "27315b45-211d-4956-88da-acb92809ae9b",
   "metadata": {},
   "outputs": [
    {
     "data": {
      "image/png": "[encoded data removed]",
      "text/plain": [
       "<Figure size 1200x600 with 1 Axes>"
      ]
     },
     "metadata": {},
     "output_type": "display_data"
    }
   ],
   "source": [
    "# Reshape the DataFrame for Seaborn (melt into long-form)\n",
    "results_long = train_results_df.reset_index().melt(id_vars='index', \n",
    "                                             var_name='Metric', \n",
    "                                             value_name='Score')\n",
    "results_long.rename(columns={'index': 'Model'}, inplace=True)\n",
    "\n",
    "# Plot using seaborn\n",
    "plt.figure(figsize=(12, 6))\n",
    "sns.barplot(x='Model', y='Score', hue='Metric', data=results_long)\n",
    "\n",
    "plt.title(\"Model Comparison on Various Metrics (Training Data)\")\n",
    "plt.ylabel(\"Score\")\n",
    "plt.xlabel(\"Model\")\n",
    "plt.xticks(rotation=45)\n",
    "plt.grid(axis='y')\n",
    "plt.legend(title='Metric', bbox_to_anchor=(1.05, 1), loc='upper left')\n",
    "plt.tight_layout()\n",
    "plt.show()\n"
   ]
  },
  {
   "cell_type": "code",
   "execution_count": 80,
   "id": "4069bfe6-005e-4a9f-b79f-5a1592112f7b",
   "metadata": {},
   "outputs": [
    {
     "name": "stdout",
     "output_type": "stream",
     "text": [
      "Testing Data Performance\n"
     ]
    },
    {
     "data": {
      "text/html": [
       "<div>\n",
       "<style scoped>\n",
       "    .dataframe tbody tr th:only-of-type {\n",
       "        vertical-align: middle;\n",
       "    }\n",
       "\n",
       "    .dataframe tbody tr th {\n",
       "        vertical-align: top;\n",
       "    }\n",
       "\n",
       "    .dataframe thead th {\n",
       "        text-align: right;\n",
       "    }\n",
       "</style>\n",
       "<table border=\"1\" class=\"dataframe\">\n",
       "  <thead>\n",
       "    <tr style=\"text-align: right;\">\n",
       "      <th></th>\n",
       "      <th>Accuracy</th>\n",
       "      <th>Precision</th>\n",
       "      <th>Recall</th>\n",
       "      <th>F1-Score</th>\n",
       "      <th>AUC-ROC</th>\n",
       "    </tr>\n",
       "  </thead>\n",
       "  <tbody>\n",
       "    <tr>\n",
       "      <th>Logistic Regression</th>\n",
       "      <td>0.5156</td>\n",
       "      <td>0.805315</td>\n",
       "      <td>0.521772</td>\n",
       "      <td>0.633253</td>\n",
       "      <td>0.506226</td>\n",
       "    </tr>\n",
       "    <tr>\n",
       "      <th>Decision Tree</th>\n",
       "      <td>0.9368</td>\n",
       "      <td>0.972240</td>\n",
       "      <td>0.948222</td>\n",
       "      <td>0.960081</td>\n",
       "      <td>0.919451</td>\n",
       "    </tr>\n",
       "    <tr>\n",
       "      <th>Random Forest</th>\n",
       "      <td>0.9772</td>\n",
       "      <td>0.973259</td>\n",
       "      <td>0.999002</td>\n",
       "      <td>0.985962</td>\n",
       "      <td>0.944085</td>\n",
       "    </tr>\n",
       "    <tr>\n",
       "      <th>SVM</th>\n",
       "      <td>0.8625</td>\n",
       "      <td>0.945160</td>\n",
       "      <td>0.879476</td>\n",
       "      <td>0.911136</td>\n",
       "      <td>0.836715</td>\n",
       "    </tr>\n",
       "    <tr>\n",
       "      <th>XGBoost</th>\n",
       "      <td>0.9167</td>\n",
       "      <td>0.952495</td>\n",
       "      <td>0.943107</td>\n",
       "      <td>0.947778</td>\n",
       "      <td>0.876591</td>\n",
       "    </tr>\n",
       "  </tbody>\n",
       "</table>\n",
       "</div>"
      ],
      "text/plain": [
       "                     Accuracy  Precision    Recall  F1-Score   AUC-ROC\n",
       "Logistic Regression    0.5156   0.805315  0.521772  0.633253  0.506226\n",
       "Decision Tree          0.9368   0.972240  0.948222  0.960081  0.919451\n",
       "Random Forest          0.9772   0.973259  0.999002  0.985962  0.944085\n",
       "SVM                    0.8625   0.945160  0.879476  0.911136  0.836715\n",
       "XGBoost                0.9167   0.952495  0.943107  0.947778  0.876591"
      ]
     },
     "execution_count": 80,
     "metadata": {},
     "output_type": "execute_result"
    }
   ],
   "source": [
    "print(\"Testing Data Performance\")\n",
    "test_results_df"
   ]
  },
  {
   "cell_type": "code",
   "execution_count": 81,
   "id": "65518668-941e-4983-99e5-7d0512e15099",
   "metadata": {},
   "outputs": [
    {
     "data": {
      "image/png": "[encoded data removed]",
      "text/plain": [
       "<Figure size 1200x600 with 1 Axes>"
      ]
     },
     "metadata": {},
     "output_type": "display_data"
    }
   ],
   "source": [
    "# Reshape the DataFrame for Seaborn (melt into long-form)\n",
    "results_long = test_results_df.reset_index().melt(id_vars='index', \n",
    "                                             var_name='Metric', \n",
    "                                             value_name='Score')\n",
    "results_long.rename(columns={'index': 'Model'}, inplace=True)\n",
    "\n",
    "# Plot using seaborn\n",
    "plt.figure(figsize=(12, 6))\n",
    "sns.barplot(x='Model', y='Score', hue='Metric', data=results_long)\n",
    "\n",
    "plt.title(\"Model Comparison on Various Metrics (Testing Data)\")\n",
    "plt.ylabel(\"Score\")\n",
    "plt.xlabel(\"Model\")\n",
    "plt.xticks(rotation=45)\n",
    "plt.grid(axis='y')\n",
    "plt.legend(title='Metric', bbox_to_anchor=(1.05, 1), loc='upper left')\n",
    "plt.tight_layout()\n",
    "plt.show()"
   ]
  },
  {
   "cell_type": "markdown",
   "id": "5ea88081-da4e-40fa-8396-83eea25515df",
   "metadata": {},
   "source": [
    "## Train vs Test Accuracy"
   ]
  },
  {
   "cell_type": "code",
   "execution_count": 83,
   "id": "d02dc50e-6719-4691-85c7-e64f5b102ecd",
   "metadata": {},
   "outputs": [
    {
     "data": {
      "image/png": "[encoded data removed]",
      "text/plain": [
       "<Figure size 1000x600 with 1 Axes>"
      ]
     },
     "metadata": {},
     "output_type": "display_data"
    }
   ],
   "source": [
    "plt.figure(figsize=(10,6))\n",
    "plt.plot(models.keys(), train_scores, marker='o', label='Train Accuracy')\n",
    "plt.plot(models.keys(), test_scores, marker='o', label='Test Accuracy')\n",
    "plt.title('Training vs Testing Accuracy')\n",
    "plt.xlabel('Models')\n",
    "plt.ylabel('Accuracy')\n",
    "plt.xticks(rotation=45)\n",
    "plt.legend()\n",
    "plt.grid(True)\n",
    "plt.tight_layout()\n",
    "plt.show()\n"
   ]
  },
  {
   "cell_type": "raw",
   "id": "fb309bf2-f9f9-4dd6-9554-af90ee833078",
   "metadata": {},
   "source": []
  },
  {
   "cell_type": "raw",
   "id": "37c6c391-1100-4716-80a1-4744956352c3",
   "metadata": {},
   "source": []
  },
  {
   "cell_type": "markdown",
   "id": "0b9a8b7a-29ab-4234-8096-ac480507acdd",
   "metadata": {},
   "source": [
    "# Random Forest Pipeline For Deployment "
   ]
  },
  {
   "cell_type": "code",
   "execution_count": 242,
   "id": "b4d6aa14-c6c1-40b9-ac19-b0915a6c9057",
   "metadata": {},
   "outputs": [
    {
     "data": {
      "text/html": [
       "<style>#sk-container-id-1 {\n",
       "  /* Definition of color scheme common for light and dark mode */\n",
       "  --sklearn-color-text: black;\n",
       "  --sklearn-color-line: gray;\n",
       "  /* Definition of color scheme for unfitted estimators */\n",
       "  --sklearn-color-unfitted-level-0: #fff5e6;\n",
       "  --sklearn-color-unfitted-level-1: #f6e4d2;\n",
       "  --sklearn-color-unfitted-level-2: #ffe0b3;\n",
       "  --sklearn-color-unfitted-level-3: chocolate;\n",
       "  /* Definition of color scheme for fitted estimators */\n",
       "  --sklearn-color-fitted-level-0: #f0f8ff;\n",
       "  --sklearn-color-fitted-level-1: #d4ebff;\n",
       "  --sklearn-color-fitted-level-2: #b3dbfd;\n",
       "  --sklearn-color-fitted-level-3: cornflowerblue;\n",
       "\n",
       "  /* Specific color for light theme */\n",
       "  --sklearn-color-text-on-default-background: var(--sg-text-color, var(--theme-code-foreground, var(--jp-content-font-color1, black)));\n",
       "  --sklearn-color-background: var(--sg-background-color, var(--theme-background, var(--jp-layout-color0, white)));\n",
       "  --sklearn-color-border-box: var(--sg-text-color, var(--theme-code-foreground, var(--jp-content-font-color1, black)));\n",
       "  --sklearn-color-icon: #696969;\n",
       "\n",
       "  @media (prefers-color-scheme: dark) {\n",
       "    /* Redefinition of color scheme for dark theme */\n",
       "    --sklearn-color-text-on-default-background: var(--sg-text-color, var(--theme-code-foreground, var(--jp-content-font-color1, white)));\n",
       "    --sklearn-color-background: var(--sg-background-color, var(--theme-background, var(--jp-layout-color0, #111)));\n",
       "    --sklearn-color-border-box: var(--sg-text-color, var(--theme-code-foreground, var(--jp-content-font-color1, white)));\n",
       "    --sklearn-color-icon: #878787;\n",
       "  }\n",
       "}\n",
       "\n",
       "#sk-container-id-1 {\n",
       "  color: var(--sklearn-color-text);\n",
       "}\n",
       "\n",
       "#sk-container-id-1 pre {\n",
       "  padding: 0;\n",
       "}\n",
       "\n",
       "#sk-container-id-1 input.sk-hidden--visually {\n",
       "  border: 0;\n",
       "  clip: rect(1px 1px 1px 1px);\n",
       "  clip: rect(1px, 1px, 1px, 1px);\n",
       "  height: 1px;\n",
       "  margin: -1px;\n",
       "  overflow: hidden;\n",
       "  padding: 0;\n",
       "  position: absolute;\n",
       "  width: 1px;\n",
       "}\n",
       "\n",
       "#sk-container-id-1 div.sk-dashed-wrapped {\n",
       "  border: 1px dashed var(--sklearn-color-line);\n",
       "  margin: 0 0.4em 0.5em 0.4em;\n",
       "  box-sizing: border-box;\n",
       "  padding-bottom: 0.4em;\n",
       "  background-color: var(--sklearn-color-background);\n",
       "}\n",
       "\n",
       "#sk-container-id-1 div.sk-container {\n",
       "  /* jupyter's `normalize.less` sets `[hidden] { display: none; }`\n",
       "     but bootstrap.min.css set `[hidden] { display: none !important; }`\n",
       "     so we also need the `!important` here to be able to override the\n",
       "     default hidden behavior on the sphinx rendered scikit-learn.org.\n",
       "     See: https://github.com/scikit-learn/scikit-learn/issues/21755 */\n",
       "  display: inline-block !important;\n",
       "  position: relative;\n",
       "}\n",
       "\n",
       "#sk-container-id-1 div.sk-text-repr-fallback {\n",
       "  display: none;\n",
       "}\n",
       "\n",
       "div.sk-parallel-item,\n",
       "div.sk-serial,\n",
       "div.sk-item {\n",
       "  /* draw centered vertical line to link estimators */\n",
       "  background-image: linear-gradient(var(--sklearn-color-text-on-default-background), var(--sklearn-color-text-on-default-background));\n",
       "  background-size: 2px 100%;\n",
       "  background-repeat: no-repeat;\n",
       "  background-position: center center;\n",
       "}\n",
       "\n",
       "/* Parallel-specific style estimator block */\n",
       "\n",
       "#sk-container-id-1 div.sk-parallel-item::after {\n",
       "  content: \"\";\n",
       "  width: 100%;\n",
       "  border-bottom: 2px solid var(--sklearn-color-text-on-default-background);\n",
       "  flex-grow: 1;\n",
       "}\n",
       "\n",
       "#sk-container-id-1 div.sk-parallel {\n",
       "  display: flex;\n",
       "  align-items: stretch;\n",
       "  justify-content: center;\n",
       "  background-color: var(--sklearn-color-background);\n",
       "  position: relative;\n",
       "}\n",
       "\n",
       "#sk-container-id-1 div.sk-parallel-item {\n",
       "  display: flex;\n",
       "  flex-direction: column;\n",
       "}\n",
       "\n",
       "#sk-container-id-1 div.sk-parallel-item:first-child::after {\n",
       "  align-self: flex-end;\n",
       "  width: 50%;\n",
       "}\n",
       "\n",
       "#sk-container-id-1 div.sk-parallel-item:last-child::after {\n",
       "  align-self: flex-start;\n",
       "  width: 50%;\n",
       "}\n",
       "\n",
       "#sk-container-id-1 div.sk-parallel-item:only-child::after {\n",
       "  width: 0;\n",
       "}\n",
       "\n",
       "/* Serial-specific style estimator block */\n",
       "\n",
       "#sk-container-id-1 div.sk-serial {\n",
       "  display: flex;\n",
       "  flex-direction: column;\n",
       "  align-items: center;\n",
       "  background-color: var(--sklearn-color-background);\n",
       "  padding-right: 1em;\n",
       "  padding-left: 1em;\n",
       "}\n",
       "\n",
       "\n",
       "/* Toggleable style: style used for estimator/Pipeline/ColumnTransformer box that is\n",
       "clickable and can be expanded/collapsed.\n",
       "- Pipeline and ColumnTransformer use this feature and define the default style\n",
       "- Estimators will overwrite some part of the style using the `sk-estimator` class\n",
       "*/\n",
       "\n",
       "/* Pipeline and ColumnTransformer style (default) */\n",
       "\n",
       "#sk-container-id-1 div.sk-toggleable {\n",
       "  /* Default theme specific background. It is overwritten whether we have a\n",
       "  specific estimator or a Pipeline/ColumnTransformer */\n",
       "  background-color: var(--sklearn-color-background);\n",
       "}\n",
       "\n",
       "/* Toggleable label */\n",
       "#sk-container-id-1 label.sk-toggleable__label {\n",
       "  cursor: pointer;\n",
       "  display: block;\n",
       "  width: 100%;\n",
       "  margin-bottom: 0;\n",
       "  padding: 0.5em;\n",
       "  box-sizing: border-box;\n",
       "  text-align: center;\n",
       "}\n",
       "\n",
       "#sk-container-id-1 label.sk-toggleable__label-arrow:before {\n",
       "  /* Arrow on the left of the label */\n",
       "  content: \"▸\";\n",
       "  float: left;\n",
       "  margin-right: 0.25em;\n",
       "  color: var(--sklearn-color-icon);\n",
       "}\n",
       "\n",
       "#sk-container-id-1 label.sk-toggleable__label-arrow:hover:before {\n",
       "  color: var(--sklearn-color-text);\n",
       "}\n",
       "\n",
       "/* Toggleable content - dropdown */\n",
       "\n",
       "#sk-container-id-1 div.sk-toggleable__content {\n",
       "  max-height: 0;\n",
       "  max-width: 0;\n",
       "  overflow: hidden;\n",
       "  text-align: left;\n",
       "  /* unfitted */\n",
       "  background-color: var(--sklearn-color-unfitted-level-0);\n",
       "}\n",
       "\n",
       "#sk-container-id-1 div.sk-toggleable__content.fitted {\n",
       "  /* fitted */\n",
       "  background-color: var(--sklearn-color-fitted-level-0);\n",
       "}\n",
       "\n",
       "#sk-container-id-1 div.sk-toggleable__content pre {\n",
       "  margin: 0.2em;\n",
       "  border-radius: 0.25em;\n",
       "  color: var(--sklearn-color-text);\n",
       "  /* unfitted */\n",
       "  background-color: var(--sklearn-color-unfitted-level-0);\n",
       "}\n",
       "\n",
       "#sk-container-id-1 div.sk-toggleable__content.fitted pre {\n",
       "  /* unfitted */\n",
       "  background-color: var(--sklearn-color-fitted-level-0);\n",
       "}\n",
       "\n",
       "#sk-container-id-1 input.sk-toggleable__control:checked~div.sk-toggleable__content {\n",
       "  /* Expand drop-down */\n",
       "  max-height: 200px;\n",
       "  max-width: 100%;\n",
       "  overflow: auto;\n",
       "}\n",
       "\n",
       "#sk-container-id-1 input.sk-toggleable__control:checked~label.sk-toggleable__label-arrow:before {\n",
       "  content: \"▾\";\n",
       "}\n",
       "\n",
       "/* Pipeline/ColumnTransformer-specific style */\n",
       "\n",
       "#sk-container-id-1 div.sk-label input.sk-toggleable__control:checked~label.sk-toggleable__label {\n",
       "  color: var(--sklearn-color-text);\n",
       "  background-color: var(--sklearn-color-unfitted-level-2);\n",
       "}\n",
       "\n",
       "#sk-container-id-1 div.sk-label.fitted input.sk-toggleable__control:checked~label.sk-toggleable__label {\n",
       "  background-color: var(--sklearn-color-fitted-level-2);\n",
       "}\n",
       "\n",
       "/* Estimator-specific style */\n",
       "\n",
       "/* Colorize estimator box */\n",
       "#sk-container-id-1 div.sk-estimator input.sk-toggleable__control:checked~label.sk-toggleable__label {\n",
       "  /* unfitted */\n",
       "  background-color: var(--sklearn-color-unfitted-level-2);\n",
       "}\n",
       "\n",
       "#sk-container-id-1 div.sk-estimator.fitted input.sk-toggleable__control:checked~label.sk-toggleable__label {\n",
       "  /* fitted */\n",
       "  background-color: var(--sklearn-color-fitted-level-2);\n",
       "}\n",
       "\n",
       "#sk-container-id-1 div.sk-label label.sk-toggleable__label,\n",
       "#sk-container-id-1 div.sk-label label {\n",
       "  /* The background is the default theme color */\n",
       "  color: var(--sklearn-color-text-on-default-background);\n",
       "}\n",
       "\n",
       "/* On hover, darken the color of the background */\n",
       "#sk-container-id-1 div.sk-label:hover label.sk-toggleable__label {\n",
       "  color: var(--sklearn-color-text);\n",
       "  background-color: var(--sklearn-color-unfitted-level-2);\n",
       "}\n",
       "\n",
       "/* Label box, darken color on hover, fitted */\n",
       "#sk-container-id-1 div.sk-label.fitted:hover label.sk-toggleable__label.fitted {\n",
       "  color: var(--sklearn-color-text);\n",
       "  background-color: var(--sklearn-color-fitted-level-2);\n",
       "}\n",
       "\n",
       "/* Estimator label */\n",
       "\n",
       "#sk-container-id-1 div.sk-label label {\n",
       "  font-family: monospace;\n",
       "  font-weight: bold;\n",
       "  display: inline-block;\n",
       "  line-height: 1.2em;\n",
       "}\n",
       "\n",
       "#sk-container-id-1 div.sk-label-container {\n",
       "  text-align: center;\n",
       "}\n",
       "\n",
       "/* Estimator-specific */\n",
       "#sk-container-id-1 div.sk-estimator {\n",
       "  font-family: monospace;\n",
       "  border: 1px dotted var(--sklearn-color-border-box);\n",
       "  border-radius: 0.25em;\n",
       "  box-sizing: border-box;\n",
       "  margin-bottom: 0.5em;\n",
       "  /* unfitted */\n",
       "  background-color: var(--sklearn-color-unfitted-level-0);\n",
       "}\n",
       "\n",
       "#sk-container-id-1 div.sk-estimator.fitted {\n",
       "  /* fitted */\n",
       "  background-color: var(--sklearn-color-fitted-level-0);\n",
       "}\n",
       "\n",
       "/* on hover */\n",
       "#sk-container-id-1 div.sk-estimator:hover {\n",
       "  /* unfitted */\n",
       "  background-color: var(--sklearn-color-unfitted-level-2);\n",
       "}\n",
       "\n",
       "#sk-container-id-1 div.sk-estimator.fitted:hover {\n",
       "  /* fitted */\n",
       "  background-color: var(--sklearn-color-fitted-level-2);\n",
       "}\n",
       "\n",
       "/* Specification for estimator info (e.g. \"i\" and \"?\") */\n",
       "\n",
       "/* Common style for \"i\" and \"?\" */\n",
       "\n",
       ".sk-estimator-doc-link,\n",
       "a:link.sk-estimator-doc-link,\n",
       "a:visited.sk-estimator-doc-link {\n",
       "  float: right;\n",
       "  font-size: smaller;\n",
       "  line-height: 1em;\n",
       "  font-family: monospace;\n",
       "  background-color: var(--sklearn-color-background);\n",
       "  border-radius: 1em;\n",
       "  height: 1em;\n",
       "  width: 1em;\n",
       "  text-decoration: none !important;\n",
       "  margin-left: 1ex;\n",
       "  /* unfitted */\n",
       "  border: var(--sklearn-color-unfitted-level-1) 1pt solid;\n",
       "  color: var(--sklearn-color-unfitted-level-1);\n",
       "}\n",
       "\n",
       ".sk-estimator-doc-link.fitted,\n",
       "a:link.sk-estimator-doc-link.fitted,\n",
       "a:visited.sk-estimator-doc-link.fitted {\n",
       "  /* fitted */\n",
       "  border: var(--sklearn-color-fitted-level-1) 1pt solid;\n",
       "  color: var(--sklearn-color-fitted-level-1);\n",
       "}\n",
       "\n",
       "/* On hover */\n",
       "div.sk-estimator:hover .sk-estimator-doc-link:hover,\n",
       ".sk-estimator-doc-link:hover,\n",
       "div.sk-label-container:hover .sk-estimator-doc-link:hover,\n",
       ".sk-estimator-doc-link:hover {\n",
       "  /* unfitted */\n",
       "  background-color: var(--sklearn-color-unfitted-level-3);\n",
       "  color: var(--sklearn-color-background);\n",
       "  text-decoration: none;\n",
       "}\n",
       "\n",
       "div.sk-estimator.fitted:hover .sk-estimator-doc-link.fitted:hover,\n",
       ".sk-estimator-doc-link.fitted:hover,\n",
       "div.sk-label-container:hover .sk-estimator-doc-link.fitted:hover,\n",
       ".sk-estimator-doc-link.fitted:hover {\n",
       "  /* fitted */\n",
       "  background-color: var(--sklearn-color-fitted-level-3);\n",
       "  color: var(--sklearn-color-background);\n",
       "  text-decoration: none;\n",
       "}\n",
       "\n",
       "/* Span, style for the box shown on hovering the info icon */\n",
       ".sk-estimator-doc-link span {\n",
       "  display: none;\n",
       "  z-index: 9999;\n",
       "  position: relative;\n",
       "  font-weight: normal;\n",
       "  right: .2ex;\n",
       "  padding: .5ex;\n",
       "  margin: .5ex;\n",
       "  width: min-content;\n",
       "  min-width: 20ex;\n",
       "  max-width: 50ex;\n",
       "  color: var(--sklearn-color-text);\n",
       "  box-shadow: 2pt 2pt 4pt #999;\n",
       "  /* unfitted */\n",
       "  background: var(--sklearn-color-unfitted-level-0);\n",
       "  border: .5pt solid var(--sklearn-color-unfitted-level-3);\n",
       "}\n",
       "\n",
       ".sk-estimator-doc-link.fitted span {\n",
       "  /* fitted */\n",
       "  background: var(--sklearn-color-fitted-level-0);\n",
       "  border: var(--sklearn-color-fitted-level-3);\n",
       "}\n",
       "\n",
       ".sk-estimator-doc-link:hover span {\n",
       "  display: block;\n",
       "}\n",
       "\n",
       "/* \"?\"-specific style due to the `<a>` HTML tag */\n",
       "\n",
       "#sk-container-id-1 a.estimator_doc_link {\n",
       "  float: right;\n",
       "  font-size: 1rem;\n",
       "  line-height: 1em;\n",
       "  font-family: monospace;\n",
       "  background-color: var(--sklearn-color-background);\n",
       "  border-radius: 1rem;\n",
       "  height: 1rem;\n",
       "  width: 1rem;\n",
       "  text-decoration: none;\n",
       "  /* unfitted */\n",
       "  color: var(--sklearn-color-unfitted-level-1);\n",
       "  border: var(--sklearn-color-unfitted-level-1) 1pt solid;\n",
       "}\n",
       "\n",
       "#sk-container-id-1 a.estimator_doc_link.fitted {\n",
       "  /* fitted */\n",
       "  border: var(--sklearn-color-fitted-level-1) 1pt solid;\n",
       "  color: var(--sklearn-color-fitted-level-1);\n",
       "}\n",
       "\n",
       "/* On hover */\n",
       "#sk-container-id-1 a.estimator_doc_link:hover {\n",
       "  /* unfitted */\n",
       "  background-color: var(--sklearn-color-unfitted-level-3);\n",
       "  color: var(--sklearn-color-background);\n",
       "  text-decoration: none;\n",
       "}\n",
       "\n",
       "#sk-container-id-1 a.estimator_doc_link.fitted:hover {\n",
       "  /* fitted */\n",
       "  background-color: var(--sklearn-color-fitted-level-3);\n",
       "}\n",
       "</style><div id=\"sk-container-id-1\" class=\"sk-top-container\"><div class=\"sk-text-repr-fallback\"><pre>Pipeline(steps=[(&#x27;preprocessing&#x27;,\n",
       "                 ColumnTransformer(remainder=&#x27;passthrough&#x27;,\n",
       "                                   transformers=[(&#x27;num&#x27;,\n",
       "                                                  Pipeline(steps=[(&#x27;scaler&#x27;,\n",
       "                                                                   StandardScaler())]),\n",
       "                                                  [&#x27;Age&#x27;]),\n",
       "                                                 (&#x27;ord&#x27;,\n",
       "                                                  Pipeline(steps=[(&#x27;ordinal_encoder&#x27;,\n",
       "                                                                   OrdinalEncoder(categories=[[&#x27;No &#x27;\n",
       "                                                                                               &#x27;Formal &#x27;\n",
       "                                                                                               &#x27;Education&#x27;,\n",
       "                                                                                               &#x27;High &#x27;\n",
       "                                                                                               &#x27;School&#x27;,\n",
       "                                                                                               &quot;Bachelor&#x27;s&quot;,\n",
       "                                                                                               &quot;Master&#x27;s&quot;,\n",
       "                                                                                               &#x27;PhD&#x27;],\n",
       "                                                                                              [&#x27;Low&#x27;,\n",
       "                                                                                               &#x27;Medium&#x27;,\n",
       "                                                                                               &#x27;High&#x27;],\n",
       "                                                                                              [&#x27;No &#x27;\n",
       "                                                                                               &#x27;Influence&#x27;,\n",
       "                                                                                               &#x27;Some &#x27;\n",
       "                                                                                               &#x27;Friends &#x27;\n",
       "                                                                                               &#x27;Us...\n",
       "                                                  Pipeline(steps=[(&#x27;onehot&#x27;,\n",
       "                                                                   OneHotEncoder(drop=&#x27;first&#x27;,\n",
       "                                                                                 handle_unknown=&#x27;ignore&#x27;,\n",
       "                                                                                 sparse_output=False))]),\n",
       "                                                  [&#x27;Gender&#x27;, &#x27;Occupation&#x27;,\n",
       "                                                   &#x27;Medical_Condition&#x27;,\n",
       "                                                   &#x27;Social_Behavior&#x27;,\n",
       "                                                   &#x27;Living_Situation&#x27;,\n",
       "                                                   &#x27;Drug_Motive&#x27;,\n",
       "                                                   &#x27;Social_Time_Spent&#x27;,\n",
       "                                                   &#x27;Mental_Health_Issues&#x27;,\n",
       "                                                   &#x27;Lives_With_User&#x27;])])),\n",
       "                (&#x27;smote&#x27;, SMOTE(random_state=42)),\n",
       "                (&#x27;pca&#x27;, PCA(n_components=0.95)),\n",
       "                (&#x27;classifier&#x27;, RandomForestClassifier())])</pre><b>In a Jupyter environment, please rerun this cell to show the HTML representation or trust the notebook. <br />On GitHub, the HTML representation is unable to render, please try loading this page with nbviewer.org.</b></div><div class=\"sk-container\" hidden><div class=\"sk-item sk-dashed-wrapped\"><div class=\"sk-label-container\"><div class=\"sk-label fitted sk-toggleable\"><input class=\"sk-toggleable__control sk-hidden--visually\" id=\"sk-estimator-id-1\" type=\"checkbox\" ><label for=\"sk-estimator-id-1\" class=\"sk-toggleable__label fitted sk-toggleable__label-arrow fitted\">&nbsp;Pipeline<span class=\"sk-estimator-doc-link fitted\">i<span>Fitted</span></span></label><div class=\"sk-toggleable__content fitted\"><pre>Pipeline(steps=[(&#x27;preprocessing&#x27;,\n",
       "                 ColumnTransformer(remainder=&#x27;passthrough&#x27;,\n",
       "                                   transformers=[(&#x27;num&#x27;,\n",
       "                                                  Pipeline(steps=[(&#x27;scaler&#x27;,\n",
       "                                                                   StandardScaler())]),\n",
       "                                                  [&#x27;Age&#x27;]),\n",
       "                                                 (&#x27;ord&#x27;,\n",
       "                                                  Pipeline(steps=[(&#x27;ordinal_encoder&#x27;,\n",
       "                                                                   OrdinalEncoder(categories=[[&#x27;No &#x27;\n",
       "                                                                                               &#x27;Formal &#x27;\n",
       "                                                                                               &#x27;Education&#x27;,\n",
       "                                                                                               &#x27;High &#x27;\n",
       "                                                                                               &#x27;School&#x27;,\n",
       "                                                                                               &quot;Bachelor&#x27;s&quot;,\n",
       "                                                                                               &quot;Master&#x27;s&quot;,\n",
       "                                                                                               &#x27;PhD&#x27;],\n",
       "                                                                                              [&#x27;Low&#x27;,\n",
       "                                                                                               &#x27;Medium&#x27;,\n",
       "                                                                                               &#x27;High&#x27;],\n",
       "                                                                                              [&#x27;No &#x27;\n",
       "                                                                                               &#x27;Influence&#x27;,\n",
       "                                                                                               &#x27;Some &#x27;\n",
       "                                                                                               &#x27;Friends &#x27;\n",
       "                                                                                               &#x27;Us...\n",
       "                                                  Pipeline(steps=[(&#x27;onehot&#x27;,\n",
       "                                                                   OneHotEncoder(drop=&#x27;first&#x27;,\n",
       "                                                                                 handle_unknown=&#x27;ignore&#x27;,\n",
       "                                                                                 sparse_output=False))]),\n",
       "                                                  [&#x27;Gender&#x27;, &#x27;Occupation&#x27;,\n",
       "                                                   &#x27;Medical_Condition&#x27;,\n",
       "                                                   &#x27;Social_Behavior&#x27;,\n",
       "                                                   &#x27;Living_Situation&#x27;,\n",
       "                                                   &#x27;Drug_Motive&#x27;,\n",
       "                                                   &#x27;Social_Time_Spent&#x27;,\n",
       "                                                   &#x27;Mental_Health_Issues&#x27;,\n",
       "                                                   &#x27;Lives_With_User&#x27;])])),\n",
       "                (&#x27;smote&#x27;, SMOTE(random_state=42)),\n",
       "                (&#x27;pca&#x27;, PCA(n_components=0.95)),\n",
       "                (&#x27;classifier&#x27;, RandomForestClassifier())])</pre></div> </div></div><div class=\"sk-serial\"><div class=\"sk-item sk-dashed-wrapped\"><div class=\"sk-label-container\"><div class=\"sk-label fitted sk-toggleable\"><input class=\"sk-toggleable__control sk-hidden--visually\" id=\"sk-estimator-id-2\" type=\"checkbox\" ><label for=\"sk-estimator-id-2\" class=\"sk-toggleable__label fitted sk-toggleable__label-arrow fitted\">&nbsp;preprocessing: ColumnTransformer<a class=\"sk-estimator-doc-link fitted\" rel=\"noreferrer\" target=\"_blank\" href=\"https://scikit-learn.org/1.5/modules/generated/sklearn.compose.ColumnTransformer.html\">?<span>Documentation for preprocessing: ColumnTransformer</span></a></label><div class=\"sk-toggleable__content fitted\"><pre>ColumnTransformer(remainder=&#x27;passthrough&#x27;,\n",
       "                  transformers=[(&#x27;num&#x27;,\n",
       "                                 Pipeline(steps=[(&#x27;scaler&#x27;, StandardScaler())]),\n",
       "                                 [&#x27;Age&#x27;]),\n",
       "                                (&#x27;ord&#x27;,\n",
       "                                 Pipeline(steps=[(&#x27;ordinal_encoder&#x27;,\n",
       "                                                  OrdinalEncoder(categories=[[&#x27;No &#x27;\n",
       "                                                                              &#x27;Formal &#x27;\n",
       "                                                                              &#x27;Education&#x27;,\n",
       "                                                                              &#x27;High &#x27;\n",
       "                                                                              &#x27;School&#x27;,\n",
       "                                                                              &quot;Bachelor&#x27;s&quot;,\n",
       "                                                                              &quot;Master&#x27;s&quot;,\n",
       "                                                                              &#x27;PhD&#x27;],\n",
       "                                                                             [&#x27;Low&#x27;,\n",
       "                                                                              &#x27;Medium&#x27;,\n",
       "                                                                              &#x27;High&#x27;],\n",
       "                                                                             [&#x27;No &#x27;\n",
       "                                                                              &#x27;Influence&#x27;,\n",
       "                                                                              &#x27;Some &#x27;\n",
       "                                                                              &#x27;Friends &#x27;\n",
       "                                                                              &#x27;Use&#x27;,\n",
       "                                                                              &#x27;Many &#x27;\n",
       "                                                                              &#x27;Friends &#x27;\n",
       "                                                                              &#x27;Use&#x27;,\n",
       "                                                                              &#x27;Peer &#x27;\n",
       "                                                                              &#x27;Pr...\n",
       "                                  &#x27;Drug_Experience&#x27;, &#x27;Friend_Influence&#x27;,\n",
       "                                  &#x27;Willingness_To_Try&#x27;, &#x27;Self_Control&#x27;,\n",
       "                                  &#x27;Usage_Frequency&#x27;]),\n",
       "                                (&#x27;ohe&#x27;,\n",
       "                                 Pipeline(steps=[(&#x27;onehot&#x27;,\n",
       "                                                  OneHotEncoder(drop=&#x27;first&#x27;,\n",
       "                                                                handle_unknown=&#x27;ignore&#x27;,\n",
       "                                                                sparse_output=False))]),\n",
       "                                 [&#x27;Gender&#x27;, &#x27;Occupation&#x27;, &#x27;Medical_Condition&#x27;,\n",
       "                                  &#x27;Social_Behavior&#x27;, &#x27;Living_Situation&#x27;,\n",
       "                                  &#x27;Drug_Motive&#x27;, &#x27;Social_Time_Spent&#x27;,\n",
       "                                  &#x27;Mental_Health_Issues&#x27;, &#x27;Lives_With_User&#x27;])])</pre></div> </div></div><div class=\"sk-parallel\"><div class=\"sk-parallel-item\"><div class=\"sk-item\"><div class=\"sk-label-container\"><div class=\"sk-label fitted sk-toggleable\"><input class=\"sk-toggleable__control sk-hidden--visually\" id=\"sk-estimator-id-3\" type=\"checkbox\" ><label for=\"sk-estimator-id-3\" class=\"sk-toggleable__label fitted sk-toggleable__label-arrow fitted\">num</label><div class=\"sk-toggleable__content fitted\"><pre>[&#x27;Age&#x27;]</pre></div> </div></div><div class=\"sk-serial\"><div class=\"sk-item\"><div class=\"sk-serial\"><div class=\"sk-item\"><div class=\"sk-estimator fitted sk-toggleable\"><input class=\"sk-toggleable__control sk-hidden--visually\" id=\"sk-estimator-id-4\" type=\"checkbox\" ><label for=\"sk-estimator-id-4\" class=\"sk-toggleable__label fitted sk-toggleable__label-arrow fitted\">&nbsp;StandardScaler<a class=\"sk-estimator-doc-link fitted\" rel=\"noreferrer\" target=\"_blank\" href=\"https://scikit-learn.org/1.5/modules/generated/sklearn.preprocessing.StandardScaler.html\">?<span>Documentation for StandardScaler</span></a></label><div class=\"sk-toggleable__content fitted\"><pre>StandardScaler()</pre></div> </div></div></div></div></div></div></div><div class=\"sk-parallel-item\"><div class=\"sk-item\"><div class=\"sk-label-container\"><div class=\"sk-label fitted sk-toggleable\"><input class=\"sk-toggleable__control sk-hidden--visually\" id=\"sk-estimator-id-5\" type=\"checkbox\" ><label for=\"sk-estimator-id-5\" class=\"sk-toggleable__label fitted sk-toggleable__label-arrow fitted\">ord</label><div class=\"sk-toggleable__content fitted\"><pre>[&#x27;Education_Level&#x27;, &#x27;Income_Level&#x27;, &#x27;Peer_Influence&#x27;, &#x27;Legal_Issues&#x27;, &#x27;Life_Failure&#x27;, &#x27;Smoking_Status&#x27;, &#x27;Drug_Experience&#x27;, &#x27;Friend_Influence&#x27;, &#x27;Willingness_To_Try&#x27;, &#x27;Self_Control&#x27;, &#x27;Usage_Frequency&#x27;]</pre></div> </div></div><div class=\"sk-serial\"><div class=\"sk-item\"><div class=\"sk-serial\"><div class=\"sk-item\"><div class=\"sk-estimator fitted sk-toggleable\"><input class=\"sk-toggleable__control sk-hidden--visually\" id=\"sk-estimator-id-6\" type=\"checkbox\" ><label for=\"sk-estimator-id-6\" class=\"sk-toggleable__label fitted sk-toggleable__label-arrow fitted\">&nbsp;OrdinalEncoder<a class=\"sk-estimator-doc-link fitted\" rel=\"noreferrer\" target=\"_blank\" href=\"https://scikit-learn.org/1.5/modules/generated/sklearn.preprocessing.OrdinalEncoder.html\">?<span>Documentation for OrdinalEncoder</span></a></label><div class=\"sk-toggleable__content fitted\"><pre>OrdinalEncoder(categories=[[&#x27;No Formal Education&#x27;, &#x27;High School&#x27;, &quot;Bachelor&#x27;s&quot;,\n",
       "                            &quot;Master&#x27;s&quot;, &#x27;PhD&#x27;],\n",
       "                           [&#x27;Low&#x27;, &#x27;Medium&#x27;, &#x27;High&#x27;],\n",
       "                           [&#x27;No Influence&#x27;, &#x27;Some Friends Use&#x27;,\n",
       "                            &#x27;Many Friends Use&#x27;, &#x27;Peer Pressure&#x27;],\n",
       "                           [&#x27;No&#x27;, &#x27;Yes&#x27;], [&#x27;No&#x27;, &#x27;Yes&#x27;],\n",
       "                           [&quot;No, I don&#x27;t&quot;, &#x27;Yes, occasionally&#x27;,\n",
       "                            &#x27;Yes, every day.&#x27;],\n",
       "                           [&#x27;No&#x27;, &#x27;Yes&#x27;],\n",
       "                           [&quot;No, they don&#x27;t&quot;, &#x27;Yes, often they do&#x27;],\n",
       "                           [&#x27;no&#x27;, &#x27;maybe&#x27;, &#x27;yes&#x27;],\n",
       "                           [&quot;No, It&#x27;s not possible&quot;, &quot;Yes, It&#x27;s possible&quot;],\n",
       "                           [&#x27;Never/ Not applicable&#x27;, &#x27;Occasionally&#x27;,\n",
       "                            &#x27;Once/twice a week&#x27;, &#x27;Regularly&#x27;]])</pre></div> </div></div></div></div></div></div></div><div class=\"sk-parallel-item\"><div class=\"sk-item\"><div class=\"sk-label-container\"><div class=\"sk-label fitted sk-toggleable\"><input class=\"sk-toggleable__control sk-hidden--visually\" id=\"sk-estimator-id-7\" type=\"checkbox\" ><label for=\"sk-estimator-id-7\" class=\"sk-toggleable__label fitted sk-toggleable__label-arrow fitted\">ohe</label><div class=\"sk-toggleable__content fitted\"><pre>[&#x27;Gender&#x27;, &#x27;Occupation&#x27;, &#x27;Medical_Condition&#x27;, &#x27;Social_Behavior&#x27;, &#x27;Living_Situation&#x27;, &#x27;Drug_Motive&#x27;, &#x27;Social_Time_Spent&#x27;, &#x27;Mental_Health_Issues&#x27;, &#x27;Lives_With_User&#x27;]</pre></div> </div></div><div class=\"sk-serial\"><div class=\"sk-item\"><div class=\"sk-serial\"><div class=\"sk-item\"><div class=\"sk-estimator fitted sk-toggleable\"><input class=\"sk-toggleable__control sk-hidden--visually\" id=\"sk-estimator-id-8\" type=\"checkbox\" ><label for=\"sk-estimator-id-8\" class=\"sk-toggleable__label fitted sk-toggleable__label-arrow fitted\">&nbsp;OneHotEncoder<a class=\"sk-estimator-doc-link fitted\" rel=\"noreferrer\" target=\"_blank\" href=\"https://scikit-learn.org/1.5/modules/generated/sklearn.preprocessing.OneHotEncoder.html\">?<span>Documentation for OneHotEncoder</span></a></label><div class=\"sk-toggleable__content fitted\"><pre>OneHotEncoder(drop=&#x27;first&#x27;, handle_unknown=&#x27;ignore&#x27;, sparse_output=False)</pre></div> </div></div></div></div></div></div></div><div class=\"sk-parallel-item\"><div class=\"sk-item\"><div class=\"sk-label-container\"><div class=\"sk-label fitted sk-toggleable\"><input class=\"sk-toggleable__control sk-hidden--visually\" id=\"sk-estimator-id-9\" type=\"checkbox\" ><label for=\"sk-estimator-id-9\" class=\"sk-toggleable__label fitted sk-toggleable__label-arrow fitted\">remainder</label><div class=\"sk-toggleable__content fitted\"><pre>[]</pre></div> </div></div><div class=\"sk-serial\"><div class=\"sk-item\"><div class=\"sk-estimator fitted sk-toggleable\"><input class=\"sk-toggleable__control sk-hidden--visually\" id=\"sk-estimator-id-10\" type=\"checkbox\" ><label for=\"sk-estimator-id-10\" class=\"sk-toggleable__label fitted sk-toggleable__label-arrow fitted\">passthrough</label><div class=\"sk-toggleable__content fitted\"><pre>passthrough</pre></div> </div></div></div></div></div></div></div><div class=\"sk-item\"><div class=\"sk-estimator fitted sk-toggleable\"><input class=\"sk-toggleable__control sk-hidden--visually\" id=\"sk-estimator-id-11\" type=\"checkbox\" ><label for=\"sk-estimator-id-11\" class=\"sk-toggleable__label fitted sk-toggleable__label-arrow fitted\">SMOTE</label><div class=\"sk-toggleable__content fitted\"><pre>SMOTE(random_state=42)</pre></div> </div></div><div class=\"sk-item\"><div class=\"sk-estimator fitted sk-toggleable\"><input class=\"sk-toggleable__control sk-hidden--visually\" id=\"sk-estimator-id-12\" type=\"checkbox\" ><label for=\"sk-estimator-id-12\" class=\"sk-toggleable__label fitted sk-toggleable__label-arrow fitted\">&nbsp;PCA<a class=\"sk-estimator-doc-link fitted\" rel=\"noreferrer\" target=\"_blank\" href=\"https://scikit-learn.org/1.5/modules/generated/sklearn.decomposition.PCA.html\">?<span>Documentation for PCA</span></a></label><div class=\"sk-toggleable__content fitted\"><pre>PCA(n_components=0.95)</pre></div> </div></div><div class=\"sk-item\"><div class=\"sk-estimator fitted sk-toggleable\"><input class=\"sk-toggleable__control sk-hidden--visually\" id=\"sk-estimator-id-13\" type=\"checkbox\" ><label for=\"sk-estimator-id-13\" class=\"sk-toggleable__label fitted sk-toggleable__label-arrow fitted\">&nbsp;RandomForestClassifier<a class=\"sk-estimator-doc-link fitted\" rel=\"noreferrer\" target=\"_blank\" href=\"https://scikit-learn.org/1.5/modules/generated/sklearn.ensemble.RandomForestClassifier.html\">?<span>Documentation for RandomForestClassifier</span></a></label><div class=\"sk-toggleable__content fitted\"><pre>RandomForestClassifier()</pre></div> </div></div></div></div></div></div>"
      ],
      "text/plain": [
       "Pipeline(steps=[('preprocessing',\n",
       "                 ColumnTransformer(remainder='passthrough',\n",
       "                                   transformers=[('num',\n",
       "                                                  Pipeline(steps=[('scaler',\n",
       "                                                                   StandardScaler())]),\n",
       "                                                  ['Age']),\n",
       "                                                 ('ord',\n",
       "                                                  Pipeline(steps=[('ordinal_encoder',\n",
       "                                                                   OrdinalEncoder(categories=[['No '\n",
       "                                                                                               'Formal '\n",
       "                                                                                               'Education',\n",
       "                                                                                               'High '\n",
       "                                                                                               'School',\n",
       "                                                                                               \"Bachelor's\",\n",
       "                                                                                               \"Master's\",\n",
       "                                                                                               'PhD'],\n",
       "                                                                                              ['Low',\n",
       "                                                                                               'Medium',\n",
       "                                                                                               'High'],\n",
       "                                                                                              ['No '\n",
       "                                                                                               'Influence',\n",
       "                                                                                               'Some '\n",
       "                                                                                               'Friends '\n",
       "                                                                                               'Us...\n",
       "                                                  Pipeline(steps=[('onehot',\n",
       "                                                                   OneHotEncoder(drop='first',\n",
       "                                                                                 handle_unknown='ignore',\n",
       "                                                                                 sparse_output=False))]),\n",
       "                                                  ['Gender', 'Occupation',\n",
       "                                                   'Medical_Condition',\n",
       "                                                   'Social_Behavior',\n",
       "                                                   'Living_Situation',\n",
       "                                                   'Drug_Motive',\n",
       "                                                   'Social_Time_Spent',\n",
       "                                                   'Mental_Health_Issues',\n",
       "                                                   'Lives_With_User'])])),\n",
       "                ('smote', SMOTE(random_state=42)),\n",
       "                ('pca', PCA(n_components=0.95)),\n",
       "                ('classifier', RandomForestClassifier())])"
      ]
     },
     "execution_count": 242,
     "metadata": {},
     "output_type": "execute_result"
    }
   ],
   "source": [
    "model_pipeline = Pipeline([\n",
    "        ('preprocessing', preprocessor),  # The full preprocessor with scaler, ordinal, one-hot\n",
    "        ('smote', SMOTE(random_state=42)),\n",
    "        ('pca', PCA(n_components=0.95)),\n",
    "        ('classifier', RandomForestClassifier())\n",
    "    ])\n",
    "model_pipeline.fit(X_train, y_train)"
   ]
  },
  {
   "cell_type": "code",
   "execution_count": 246,
   "id": "95c83380-e4da-48d6-b1d3-25b31fc42847",
   "metadata": {},
   "outputs": [],
   "source": [
    "import pickle\n",
    "\n",
    "with open('model.pkl', 'wb') as file:\n",
    "    pickle.dump(model_pipeline, file)"
   ]
  },
  {
   "cell_type": "code",
   "execution_count": null,
   "id": "b8bf44d5-1949-4140-9e79-4847158efa1c",
   "metadata": {},
   "outputs": [],
   "source": []
  }
 ],
 "metadata": {
  "kernelspec": {
   "display_name": "Python 3 (ipykernel)",
   "language": "python",
   "name": "python3"
  },
  "language_info": {
   "codemirror_mode": {
    "name": "ipython",
    "version": 3
   },
   "file_extension": ".py",
   "mimetype": "text/x-python",
   "name": "python",
   "nbconvert_exporter": "python",
   "pygments_lexer": "ipython3",
   "version": "3.12.7"
  }
 },
 "nbformat": 4,
 "nbformat_minor": 5
}
